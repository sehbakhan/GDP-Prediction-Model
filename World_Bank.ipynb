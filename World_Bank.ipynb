{
  "cells": [
    {
      "cell_type": "markdown",
      "metadata": {
        "id": "h0jgALcd7-WT"
      },
      "source": [
        "# Analyzing Socioeconomic Indicators to Predict GDP of Nations"
      ]
    },
    {
      "cell_type": "code",
      "execution_count": 1,
      "metadata": {
        "id": "oMzJ90dg7-WX"
      },
      "outputs": [],
      "source": [
        "import numpy as np\n",
        "import pandas as pd\n",
        "import matplotlib.pyplot as plt\n",
        "import seaborn as sns\n",
        "import plotly.express as px\n",
        "import plotly.graph_objects as go\n",
        "from ipywidgets import interact, widgets\n",
        "from IPython.display import display, clear_output\n",
        "\n",
        "import warnings\n",
        "warnings.filterwarnings(\"ignore\", category=FutureWarning)"
      ]
    },
    {
      "cell_type": "code",
      "execution_count": 2,
      "metadata": {
        "id": "AiUC_lXz7-WY"
      },
      "outputs": [],
      "source": [
        "from sklearn.model_selection import train_test_split\n",
        "from sklearn.preprocessing import StandardScaler, LabelEncoder\n",
        "from sklearn.linear_model import LinearRegression\n",
        "from sklearn.ensemble import RandomForestRegressor, GradientBoostingRegressor\n",
        "from sklearn.metrics import mean_absolute_error, mean_squared_error, r2_score\n",
        "from sklearn.model_selection import GridSearchCV\n",
        "from sklearn.compose import ColumnTransformer\n",
        "from sklearn.preprocessing import StandardScaler, OneHotEncoder\n",
        "from sklearn.linear_model import LogisticRegression\n",
        "from sklearn.tree import DecisionTreeClassifier\n",
        "from sklearn.ensemble import RandomForestClassifier, GradientBoostingClassifier"
      ]
    },
    {
      "cell_type": "markdown",
      "metadata": {
        "id": "Igz9Q6QZ7-WZ"
      },
      "source": [
        "## Data Preprocessing"
      ]
    },
    {
      "cell_type": "markdown",
      "metadata": {
        "id": "oSELsjG97-WZ"
      },
      "source": [
        "### 1.*Load the Dataset*:\n",
        "Import the necessary libraries and load the dataset into a DataFrame.\n",
        "\n",
        "### 2.*Check for Missing Value*:\n",
        "Identify any missing values in the dataset and calculate the percentage of missing data for each column.\n",
        "\n",
        "### 3.*Check for Duplicates*:\n",
        "Determine if there are any duplicate rows in the dataset and remove them if found.\n"
      ]
    },
    {
      "cell_type": "code",
      "execution_count": 3,
      "metadata": {
        "colab": {
          "base_uri": "https://localhost:8080/",
          "height": 458
        },
        "id": "8Q0jJroT7-WZ",
        "outputId": "8ada4350-3a23-43e0-c23d-8946b2c09ee8"
      },
      "outputs": [
        {
          "data": {
            "application/vnd.microsoft.datawrangler.viewer.v0+json": {
              "columns": [
                {
                  "name": "index",
                  "rawType": "int64",
                  "type": "integer"
                },
                {
                  "name": "Country",
                  "rawType": "object",
                  "type": "string"
                },
                {
                  "name": "Year",
                  "rawType": "int64",
                  "type": "integer"
                },
                {
                  "name": "GDP (USD)",
                  "rawType": "float64",
                  "type": "float"
                },
                {
                  "name": "Population",
                  "rawType": "float64",
                  "type": "float"
                },
                {
                  "name": "Life Expectancy",
                  "rawType": "float64",
                  "type": "float"
                },
                {
                  "name": "Unemployment Rate (%)",
                  "rawType": "float64",
                  "type": "float"
                },
                {
                  "name": "CO2 Emissions (metric tons per capita)",
                  "rawType": "float64",
                  "type": "float"
                },
                {
                  "name": "Access to Electricity (%)",
                  "rawType": "float64",
                  "type": "float"
                }
              ],
              "conversionMethod": "pd.DataFrame",
              "ref": "41c9df2f-4ac9-4829-96e1-71d7c1c4a2da",
              "rows": [
                [
                  "0",
                  "Brazil",
                  "2010",
                  "1493220000000.0",
                  "829020000.0",
                  "66.7",
                  "3.81",
                  "10.79",
                  "76.76"
                ],
                [
                  "1",
                  "Japan",
                  "2011",
                  "17562700000000.0",
                  "897010000.0",
                  "61.4",
                  "17.98",
                  "15.67",
                  "67.86"
                ],
                [
                  "2",
                  "India",
                  "2012",
                  "16426880000000.002",
                  "669850000.0",
                  "69.1",
                  "16.02",
                  "2.08",
                  "81.08"
                ],
                [
                  "3",
                  "Mexico",
                  "2013",
                  "11890010000000.0",
                  "113800000.0",
                  "80.1",
                  "6.26",
                  "19.13",
                  "53.46"
                ],
                [
                  "4",
                  "India",
                  "2014",
                  "2673020000000.0",
                  "29710000.0",
                  "62.7",
                  "3.1",
                  "15.66",
                  "82.17"
                ],
                [
                  "5",
                  "United Kingdom",
                  "2015",
                  "10711800000000.0",
                  "722560000.0",
                  "74.6",
                  "23.24",
                  "7.55",
                  "64.48"
                ],
                [
                  "6",
                  "China",
                  "2016",
                  "6791480000000.0",
                  "1492810000.0",
                  "84.6",
                  "15.59",
                  "10.18",
                  "78.46"
                ],
                [
                  "7",
                  "Indonesia",
                  "2017",
                  "9467220000000.0",
                  "118240000.0",
                  "80.9",
                  "10.91",
                  "2.87",
                  "61.41"
                ],
                [
                  "8",
                  "United Kingdom",
                  "2018",
                  "13514030000000.0",
                  "1461580000.0",
                  "57.0",
                  "3.29",
                  "9.29",
                  "98.05"
                ],
                [
                  "9",
                  "India",
                  "2019",
                  "14257200000000.0",
                  "802050000.0",
                  "59.9",
                  "18.61",
                  "19.1",
                  "92.8"
                ],
                [
                  "10",
                  "Canada",
                  "2010",
                  "13802700000000.0",
                  "909050000.0",
                  "75.4",
                  "16.03",
                  "4.95",
                  "59.87"
                ],
                [
                  "11",
                  "Argentina",
                  "2011",
                  "19337350000000.0",
                  "1084140000.0",
                  "55.7",
                  "19.14",
                  "15.86",
                  "71.43"
                ],
                [
                  "12",
                  "India",
                  "2012",
                  "10492360000000.0",
                  "818780000.0",
                  "54.8",
                  "2.83",
                  "16.49",
                  "89.31"
                ],
                [
                  "13",
                  "Nigeria",
                  "2013",
                  "6052290000000.0",
                  "447700000.0",
                  "82.5",
                  "8.56",
                  "14.32",
                  "98.22"
                ],
                [
                  "14",
                  "Italy",
                  "2014",
                  "5800450000000.0",
                  "238740000.0",
                  "63.1",
                  "6.24",
                  "16.54",
                  "68.43"
                ],
                [
                  "15",
                  "Indonesia",
                  "2015",
                  "10058870000000.0",
                  "348990000.0",
                  "62.4",
                  "6.82",
                  "5.43",
                  "99.76"
                ],
                [
                  "16",
                  "Turkey",
                  "2016",
                  "6110370000000.0",
                  "257480000.00000003",
                  "84.6",
                  "4.08",
                  "7.08",
                  "65.68"
                ],
                [
                  "17",
                  "Saudi Arabia",
                  "2017",
                  "15038000000000.0",
                  "1285920000.0",
                  "64.8",
                  "6.12",
                  "14.07",
                  "59.02"
                ],
                [
                  "18",
                  "Nigeria",
                  "2018",
                  "11718130000000.0",
                  "158310000.0",
                  "65.2",
                  "18.78",
                  "16.61",
                  "89.47"
                ],
                [
                  "19",
                  "Saudi Arabia",
                  "2019",
                  "12988290000000.0",
                  "766880000.0",
                  "84.9",
                  "16.91",
                  "3.41",
                  "66.31"
                ],
                [
                  "20",
                  "Saudi Arabia",
                  "2010",
                  "11649850000000.0",
                  "1041990000.0",
                  "73.6",
                  "3.2",
                  "7.29",
                  "59.27"
                ],
                [
                  "21",
                  "Russia",
                  "2011",
                  "6110630000000.0",
                  "932420000.0",
                  "71.6",
                  "6.56",
                  "0.81",
                  "82.59"
                ],
                [
                  "22",
                  "France",
                  "2012",
                  "8354820000000.0",
                  "227020000.0",
                  "63.5",
                  "5.37",
                  "13.85",
                  "56.94"
                ],
                [
                  "23",
                  "China",
                  "2013",
                  "17735350000000.0",
                  "578590000.0",
                  "82.6",
                  "18.97",
                  "10.62",
                  "57.82"
                ],
                [
                  "24",
                  "United States",
                  "2014",
                  "13183730000000.0",
                  "1279810000.0",
                  "64.8",
                  "10.97",
                  "9.72",
                  "90.13"
                ],
                [
                  "25",
                  "Argentina",
                  "2015",
                  "1549940000000.0",
                  "1304040000.0",
                  "52.4",
                  "11.64",
                  "17.15",
                  "59.42"
                ],
                [
                  "26",
                  "Germany",
                  "2016",
                  "7563440000000.0",
                  "1344860000.0",
                  "77.0",
                  "10.91",
                  "13.91",
                  "72.79"
                ],
                [
                  "27",
                  "Italy",
                  "2017",
                  "18064210000000.0",
                  "931890000.0",
                  "61.4",
                  "14.99",
                  "17.61",
                  "58.46"
                ],
                [
                  "28",
                  "Mexico",
                  "2018",
                  "18120300000000.0",
                  "1013430000.0",
                  "53.0",
                  "24.12",
                  "7.01",
                  "88.9"
                ],
                [
                  "29",
                  "United Kingdom",
                  "2019",
                  "7731710000000.0",
                  "354840000.0",
                  "68.7",
                  "21.3",
                  "3.16",
                  "58.83"
                ],
                [
                  "30",
                  "United States",
                  "2010",
                  "19635370000000.0",
                  "705930000.0",
                  "65.5",
                  "18.01",
                  "16.99",
                  "97.58"
                ],
                [
                  "31",
                  "United Kingdom",
                  "2011",
                  "13235260000000.0",
                  "849830000.0",
                  "59.5",
                  "24.24",
                  "15.87",
                  "68.85"
                ],
                [
                  "32",
                  "Nigeria",
                  "2012",
                  "3299410000000.0",
                  "313530000.0",
                  "53.0",
                  "7.75",
                  "8.53",
                  "86.8"
                ],
                [
                  "33",
                  "Brazil",
                  "2013",
                  "3323420000000.0",
                  "1207240000.0",
                  "64.9",
                  "8.52",
                  "5.42",
                  "65.49"
                ],
                [
                  "34",
                  "Nigeria",
                  "2014",
                  "4359940000000.0",
                  "1428660000.0",
                  "81.0",
                  "19.52",
                  "16.55",
                  "97.79"
                ],
                [
                  "35",
                  "Italy",
                  "2015",
                  "19306190000000.0",
                  "104310000.0",
                  "71.7",
                  "9.35",
                  "4.94",
                  "69.9"
                ],
                [
                  "36",
                  "Saudi Arabia",
                  "2016",
                  "8399040000000.001",
                  "756200000.0",
                  "50.7",
                  "16.47",
                  "13.57",
                  "55.19"
                ],
                [
                  "37",
                  "South Korea",
                  "2017",
                  "13078630000000.0",
                  "1219400000.0",
                  "74.2",
                  "14.81",
                  "12.36",
                  "64.8"
                ],
                [
                  "38",
                  "Australia",
                  "2018",
                  "4447080000000.0",
                  "1090030000.0",
                  "75.6",
                  "3.69",
                  "3.74",
                  "86.12"
                ],
                [
                  "39",
                  "Brazil",
                  "2019",
                  "9209270000000.0",
                  "815700000.0",
                  "79.4",
                  "5.82",
                  "11.94",
                  "57.0"
                ],
                [
                  "40",
                  "China",
                  "2010",
                  "11051540000000.0",
                  "149740000.0",
                  "82.7",
                  "14.63",
                  "19.44",
                  "50.12"
                ],
                [
                  "41",
                  "Indonesia",
                  "2011",
                  "2860590000000.0",
                  "254580000.0",
                  "55.6",
                  "10.31",
                  "3.6",
                  "76.75"
                ],
                [
                  "42",
                  "United States",
                  "2012",
                  "17950000000000.0",
                  "566290000.0",
                  "59.5",
                  "15.38",
                  "9.53",
                  "63.82"
                ],
                [
                  "43",
                  "Mexico",
                  "2013",
                  "3158440000000.0",
                  "722090000.0",
                  "69.9",
                  "17.83",
                  "16.58",
                  "54.95"
                ],
                [
                  "44",
                  "Brazil",
                  "2014",
                  "11803690000000.0",
                  "255730000.0",
                  "68.4",
                  "6.27",
                  "10.83",
                  "98.84"
                ],
                [
                  "45",
                  "China",
                  "2015",
                  "6739310000000.0",
                  "603690000.0",
                  "63.5",
                  "18.05",
                  "16.88",
                  "78.31"
                ],
                [
                  "46",
                  "India",
                  "2016",
                  "18649290000000.0",
                  "1011750000.0",
                  "74.4",
                  "3.04",
                  "6.29",
                  "58.97"
                ],
                [
                  "47",
                  "United States",
                  "2017",
                  "11620000000000.0",
                  "656050000.0",
                  "83.3",
                  "10.24",
                  "9.6",
                  "99.02"
                ],
                [
                  "48",
                  "China",
                  "2018",
                  "16172620000000.0",
                  "101390000.0",
                  "50.5",
                  "3.42",
                  "5.53",
                  "75.8"
                ],
                [
                  "49",
                  "Brazil",
                  "2019",
                  "18026090000000.0",
                  "366950000.0",
                  "71.0",
                  "12.68",
                  "6.95",
                  "68.95"
                ]
              ],
              "shape": {
                "columns": 8,
                "rows": 200
              }
            },
            "text/html": [
              "<div>\n",
              "<style scoped>\n",
              "    .dataframe tbody tr th:only-of-type {\n",
              "        vertical-align: middle;\n",
              "    }\n",
              "\n",
              "    .dataframe tbody tr th {\n",
              "        vertical-align: top;\n",
              "    }\n",
              "\n",
              "    .dataframe thead th {\n",
              "        text-align: right;\n",
              "    }\n",
              "</style>\n",
              "<table border=\"1\" class=\"dataframe\">\n",
              "  <thead>\n",
              "    <tr style=\"text-align: right;\">\n",
              "      <th></th>\n",
              "      <th>Country</th>\n",
              "      <th>Year</th>\n",
              "      <th>GDP (USD)</th>\n",
              "      <th>Population</th>\n",
              "      <th>Life Expectancy</th>\n",
              "      <th>Unemployment Rate (%)</th>\n",
              "      <th>CO2 Emissions (metric tons per capita)</th>\n",
              "      <th>Access to Electricity (%)</th>\n",
              "    </tr>\n",
              "  </thead>\n",
              "  <tbody>\n",
              "    <tr>\n",
              "      <th>0</th>\n",
              "      <td>Brazil</td>\n",
              "      <td>2010</td>\n",
              "      <td>1.493220e+12</td>\n",
              "      <td>8.290200e+08</td>\n",
              "      <td>66.7</td>\n",
              "      <td>3.81</td>\n",
              "      <td>10.79</td>\n",
              "      <td>76.76</td>\n",
              "    </tr>\n",
              "    <tr>\n",
              "      <th>1</th>\n",
              "      <td>Japan</td>\n",
              "      <td>2011</td>\n",
              "      <td>1.756270e+13</td>\n",
              "      <td>8.970100e+08</td>\n",
              "      <td>61.4</td>\n",
              "      <td>17.98</td>\n",
              "      <td>15.67</td>\n",
              "      <td>67.86</td>\n",
              "    </tr>\n",
              "    <tr>\n",
              "      <th>2</th>\n",
              "      <td>India</td>\n",
              "      <td>2012</td>\n",
              "      <td>1.642688e+13</td>\n",
              "      <td>6.698500e+08</td>\n",
              "      <td>69.1</td>\n",
              "      <td>16.02</td>\n",
              "      <td>2.08</td>\n",
              "      <td>81.08</td>\n",
              "    </tr>\n",
              "    <tr>\n",
              "      <th>3</th>\n",
              "      <td>Mexico</td>\n",
              "      <td>2013</td>\n",
              "      <td>1.189001e+13</td>\n",
              "      <td>1.138000e+08</td>\n",
              "      <td>80.1</td>\n",
              "      <td>6.26</td>\n",
              "      <td>19.13</td>\n",
              "      <td>53.46</td>\n",
              "    </tr>\n",
              "    <tr>\n",
              "      <th>4</th>\n",
              "      <td>India</td>\n",
              "      <td>2014</td>\n",
              "      <td>2.673020e+12</td>\n",
              "      <td>2.971000e+07</td>\n",
              "      <td>62.7</td>\n",
              "      <td>3.10</td>\n",
              "      <td>15.66</td>\n",
              "      <td>82.17</td>\n",
              "    </tr>\n",
              "    <tr>\n",
              "      <th>...</th>\n",
              "      <td>...</td>\n",
              "      <td>...</td>\n",
              "      <td>...</td>\n",
              "      <td>...</td>\n",
              "      <td>...</td>\n",
              "      <td>...</td>\n",
              "      <td>...</td>\n",
              "      <td>...</td>\n",
              "    </tr>\n",
              "    <tr>\n",
              "      <th>195</th>\n",
              "      <td>India</td>\n",
              "      <td>2015</td>\n",
              "      <td>1.110880e+12</td>\n",
              "      <td>6.727800e+08</td>\n",
              "      <td>78.5</td>\n",
              "      <td>22.30</td>\n",
              "      <td>11.36</td>\n",
              "      <td>66.04</td>\n",
              "    </tr>\n",
              "    <tr>\n",
              "      <th>196</th>\n",
              "      <td>Australia</td>\n",
              "      <td>2016</td>\n",
              "      <td>9.210290e+12</td>\n",
              "      <td>6.896500e+08</td>\n",
              "      <td>64.9</td>\n",
              "      <td>9.82</td>\n",
              "      <td>15.59</td>\n",
              "      <td>67.29</td>\n",
              "    </tr>\n",
              "    <tr>\n",
              "      <th>197</th>\n",
              "      <td>United States</td>\n",
              "      <td>2017</td>\n",
              "      <td>4.937150e+12</td>\n",
              "      <td>1.234820e+09</td>\n",
              "      <td>61.0</td>\n",
              "      <td>4.14</td>\n",
              "      <td>14.66</td>\n",
              "      <td>91.16</td>\n",
              "    </tr>\n",
              "    <tr>\n",
              "      <th>198</th>\n",
              "      <td>Canada</td>\n",
              "      <td>2018</td>\n",
              "      <td>1.088696e+13</td>\n",
              "      <td>2.625900e+08</td>\n",
              "      <td>76.5</td>\n",
              "      <td>2.28</td>\n",
              "      <td>7.25</td>\n",
              "      <td>59.21</td>\n",
              "    </tr>\n",
              "    <tr>\n",
              "      <th>199</th>\n",
              "      <td>United Kingdom</td>\n",
              "      <td>2019</td>\n",
              "      <td>4.525980e+12</td>\n",
              "      <td>5.354700e+08</td>\n",
              "      <td>73.7</td>\n",
              "      <td>17.29</td>\n",
              "      <td>16.68</td>\n",
              "      <td>65.48</td>\n",
              "    </tr>\n",
              "  </tbody>\n",
              "</table>\n",
              "<p>200 rows × 8 columns</p>\n",
              "</div>"
            ],
            "text/plain": [
              "            Country  Year     GDP (USD)    Population  Life Expectancy  \\\n",
              "0            Brazil  2010  1.493220e+12  8.290200e+08             66.7   \n",
              "1             Japan  2011  1.756270e+13  8.970100e+08             61.4   \n",
              "2             India  2012  1.642688e+13  6.698500e+08             69.1   \n",
              "3            Mexico  2013  1.189001e+13  1.138000e+08             80.1   \n",
              "4             India  2014  2.673020e+12  2.971000e+07             62.7   \n",
              "..              ...   ...           ...           ...              ...   \n",
              "195           India  2015  1.110880e+12  6.727800e+08             78.5   \n",
              "196       Australia  2016  9.210290e+12  6.896500e+08             64.9   \n",
              "197   United States  2017  4.937150e+12  1.234820e+09             61.0   \n",
              "198          Canada  2018  1.088696e+13  2.625900e+08             76.5   \n",
              "199  United Kingdom  2019  4.525980e+12  5.354700e+08             73.7   \n",
              "\n",
              "     Unemployment Rate (%)  CO2 Emissions (metric tons per capita)  \\\n",
              "0                     3.81                                   10.79   \n",
              "1                    17.98                                   15.67   \n",
              "2                    16.02                                    2.08   \n",
              "3                     6.26                                   19.13   \n",
              "4                     3.10                                   15.66   \n",
              "..                     ...                                     ...   \n",
              "195                  22.30                                   11.36   \n",
              "196                   9.82                                   15.59   \n",
              "197                   4.14                                   14.66   \n",
              "198                   2.28                                    7.25   \n",
              "199                  17.29                                   16.68   \n",
              "\n",
              "     Access to Electricity (%)  \n",
              "0                        76.76  \n",
              "1                        67.86  \n",
              "2                        81.08  \n",
              "3                        53.46  \n",
              "4                        82.17  \n",
              "..                         ...  \n",
              "195                      66.04  \n",
              "196                      67.29  \n",
              "197                      91.16  \n",
              "198                      59.21  \n",
              "199                      65.48  \n",
              "\n",
              "[200 rows x 8 columns]"
            ]
          },
          "execution_count": 3,
          "metadata": {},
          "output_type": "execute_result"
        }
      ],
      "source": [
        "df = pd.read_csv(\"world_bank_dataset.csv\")\n",
        "df"
      ]
    },
    {
      "cell_type": "code",
      "execution_count": 4,
      "metadata": {
        "colab": {
          "base_uri": "https://localhost:8080/"
        },
        "id": "EltuMM4r7-Wa",
        "outputId": "2cbd9cbe-aa26-441b-997e-cba9c1b1c036"
      },
      "outputs": [
        {
          "name": "stdout",
          "output_type": "stream",
          "text": [
            "The dataset contains 200 Rows and 8 Columns.\n",
            "\n"
          ]
        }
      ],
      "source": [
        "print(f\"The dataset contains {df.shape[0]} Rows and {df.shape[1]} Columns.\\n\")"
      ]
    },
    {
      "cell_type": "code",
      "execution_count": 5,
      "metadata": {
        "colab": {
          "base_uri": "https://localhost:8080/"
        },
        "id": "VGS5CG337-Wb",
        "outputId": "df2107b3-35de-4cc0-b8dc-13c6d6613be4"
      },
      "outputs": [
        {
          "name": "stdout",
          "output_type": "stream",
          "text": [
            "Data Types and Non-Null Counts:\n",
            "<class 'pandas.core.frame.DataFrame'>\n",
            "RangeIndex: 200 entries, 0 to 199\n",
            "Data columns (total 8 columns):\n",
            " #   Column                                  Non-Null Count  Dtype  \n",
            "---  ------                                  --------------  -----  \n",
            " 0   Country                                 200 non-null    object \n",
            " 1   Year                                    200 non-null    int64  \n",
            " 2   GDP (USD)                               200 non-null    float64\n",
            " 3   Population                              200 non-null    float64\n",
            " 4   Life Expectancy                         200 non-null    float64\n",
            " 5   Unemployment Rate (%)                   200 non-null    float64\n",
            " 6   CO2 Emissions (metric tons per capita)  200 non-null    float64\n",
            " 7   Access to Electricity (%)               200 non-null    float64\n",
            "dtypes: float64(6), int64(1), object(1)\n",
            "memory usage: 12.6+ KB\n",
            "None\n"
          ]
        }
      ],
      "source": [
        "# Display data types and non-null counts\n",
        "print(\"Data Types and Non-Null Counts:\")\n",
        "print(df.info())"
      ]
    },
    {
      "cell_type": "code",
      "execution_count": 6,
      "metadata": {
        "colab": {
          "base_uri": "https://localhost:8080/",
          "height": 352
        },
        "id": "JwL7Ht3U7-Wb",
        "outputId": "d4822df2-b150-426c-f101-5cee1bea8ed1"
      },
      "outputs": [
        {
          "name": "stdout",
          "output_type": "stream",
          "text": [
            "Missing Values:\n"
          ]
        },
        {
          "data": {
            "text/plain": [
              "Country                                   0\n",
              "Year                                      0\n",
              "GDP (USD)                                 0\n",
              "Population                                0\n",
              "Life Expectancy                           0\n",
              "Unemployment Rate (%)                     0\n",
              "CO2 Emissions (metric tons per capita)    0\n",
              "Access to Electricity (%)                 0\n",
              "dtype: int64"
            ]
          },
          "execution_count": 6,
          "metadata": {},
          "output_type": "execute_result"
        }
      ],
      "source": [
        "# Check for missing values\n",
        "print(\"Missing Values:\")\n",
        "df.isnull().sum()"
      ]
    },
    {
      "cell_type": "markdown",
      "metadata": {
        "id": "ixPBCuAz7-Wb"
      },
      "source": [
        "# Step 2: Exploratory Data Analysis (EDA)\n",
        "\n",
        "Analyze Relationships\n",
        "Use correlation matrices and scatter plots to visualize relationships."
      ]
    },
    {
      "cell_type": "code",
      "execution_count": 7,
      "metadata": {
        "colab": {
          "base_uri": "https://localhost:8080/",
          "height": 542
        },
        "id": "oNDIKm1y7-Wc",
        "outputId": "e5fbc6d0-7d24-4b8a-a81e-c8b84669f602"
      },
      "outputs": [
        {
          "data": {
            "application/vnd.plotly.v1+json": {
              "config": {
                "plotlyServerURL": "https://plot.ly"
              },
              "data": [
                {
                  "hovertemplate": "<b>%{hovertext}</b><br><br>Average Unemployment Rate=%{x}<br>Average GDP (USD)=%{y}<br>Country=%{text}<extra></extra>",
                  "hovertext": [
                    "Argentina",
                    "Australia",
                    "Brazil",
                    "Canada",
                    "China",
                    "France",
                    "Germany",
                    "India",
                    "Indonesia",
                    "Italy",
                    "Japan",
                    "Mexico",
                    "Nigeria",
                    "Russia",
                    "Saudi Arabia",
                    "South Africa",
                    "South Korea",
                    "Turkey",
                    "United Kingdom",
                    "United States"
                  ],
                  "legendgroup": "",
                  "marker": {
                    "color": "#636efa",
                    "symbol": "circle"
                  },
                  "mode": "markers+text",
                  "name": "",
                  "orientation": "v",
                  "showlegend": false,
                  "text": [
                    "Argentina",
                    "Australia",
                    "Brazil",
                    "Canada",
                    "China",
                    "France",
                    "Germany",
                    "India",
                    "Indonesia",
                    "Italy",
                    "Japan",
                    "Mexico",
                    "Nigeria",
                    "Russia",
                    "Saudi Arabia",
                    "South Africa",
                    "South Korea",
                    "Turkey",
                    "United Kingdom",
                    "United States"
                  ],
                  "type": "scatter",
                  "x": [
                    13.778333333333334,
                    9.468571428571428,
                    9.141428571428571,
                    15.162,
                    13.175,
                    13.688333333333333,
                    13.938571428571427,
                    11.864,
                    13.227692307692308,
                    13.353333333333333,
                    14.803,
                    15.766,
                    12.94888888888889,
                    17.4475,
                    9.855384615384615,
                    10.565,
                    14.478333333333333,
                    10.864444444444445,
                    16.145384615384614,
                    14.610909090909091
                  ],
                  "xaxis": "x",
                  "y": [
                    10374101666666.666,
                    5839284285714.286,
                    8353468571428.571,
                    12484981000000,
                    11460316250000,
                    10464198333333.334,
                    7282051428571.429,
                    9990389333333.334,
                    7583439230769.23,
                    13673515833333.334,
                    11173995000000,
                    10380130000000,
                    10356608888888.889,
                    12270681250000,
                    12126664615384.615,
                    7797570000000,
                    10784946666666.666,
                    14588323333333.334,
                    8996256923076.924,
                    13127026363636.363
                  ],
                  "yaxis": "y"
                }
              ],
              "layout": {
                "legend": {
                  "tracegroupgap": 0
                },
                "template": {
                  "data": {
                    "bar": [
                      {
                        "error_x": {
                          "color": "#2a3f5f"
                        },
                        "error_y": {
                          "color": "#2a3f5f"
                        },
                        "marker": {
                          "line": {
                            "color": "#E5ECF6",
                            "width": 0.5
                          },
                          "pattern": {
                            "fillmode": "overlay",
                            "size": 10,
                            "solidity": 0.2
                          }
                        },
                        "type": "bar"
                      }
                    ],
                    "barpolar": [
                      {
                        "marker": {
                          "line": {
                            "color": "#E5ECF6",
                            "width": 0.5
                          },
                          "pattern": {
                            "fillmode": "overlay",
                            "size": 10,
                            "solidity": 0.2
                          }
                        },
                        "type": "barpolar"
                      }
                    ],
                    "carpet": [
                      {
                        "aaxis": {
                          "endlinecolor": "#2a3f5f",
                          "gridcolor": "white",
                          "linecolor": "white",
                          "minorgridcolor": "white",
                          "startlinecolor": "#2a3f5f"
                        },
                        "baxis": {
                          "endlinecolor": "#2a3f5f",
                          "gridcolor": "white",
                          "linecolor": "white",
                          "minorgridcolor": "white",
                          "startlinecolor": "#2a3f5f"
                        },
                        "type": "carpet"
                      }
                    ],
                    "choropleth": [
                      {
                        "colorbar": {
                          "outlinewidth": 0,
                          "ticks": ""
                        },
                        "type": "choropleth"
                      }
                    ],
                    "contour": [
                      {
                        "colorbar": {
                          "outlinewidth": 0,
                          "ticks": ""
                        },
                        "colorscale": [
                          [
                            0,
                            "#0d0887"
                          ],
                          [
                            0.1111111111111111,
                            "#46039f"
                          ],
                          [
                            0.2222222222222222,
                            "#7201a8"
                          ],
                          [
                            0.3333333333333333,
                            "#9c179e"
                          ],
                          [
                            0.4444444444444444,
                            "#bd3786"
                          ],
                          [
                            0.5555555555555556,
                            "#d8576b"
                          ],
                          [
                            0.6666666666666666,
                            "#ed7953"
                          ],
                          [
                            0.7777777777777778,
                            "#fb9f3a"
                          ],
                          [
                            0.8888888888888888,
                            "#fdca26"
                          ],
                          [
                            1,
                            "#f0f921"
                          ]
                        ],
                        "type": "contour"
                      }
                    ],
                    "contourcarpet": [
                      {
                        "colorbar": {
                          "outlinewidth": 0,
                          "ticks": ""
                        },
                        "type": "contourcarpet"
                      }
                    ],
                    "heatmap": [
                      {
                        "colorbar": {
                          "outlinewidth": 0,
                          "ticks": ""
                        },
                        "colorscale": [
                          [
                            0,
                            "#0d0887"
                          ],
                          [
                            0.1111111111111111,
                            "#46039f"
                          ],
                          [
                            0.2222222222222222,
                            "#7201a8"
                          ],
                          [
                            0.3333333333333333,
                            "#9c179e"
                          ],
                          [
                            0.4444444444444444,
                            "#bd3786"
                          ],
                          [
                            0.5555555555555556,
                            "#d8576b"
                          ],
                          [
                            0.6666666666666666,
                            "#ed7953"
                          ],
                          [
                            0.7777777777777778,
                            "#fb9f3a"
                          ],
                          [
                            0.8888888888888888,
                            "#fdca26"
                          ],
                          [
                            1,
                            "#f0f921"
                          ]
                        ],
                        "type": "heatmap"
                      }
                    ],
                    "heatmapgl": [
                      {
                        "colorbar": {
                          "outlinewidth": 0,
                          "ticks": ""
                        },
                        "colorscale": [
                          [
                            0,
                            "#0d0887"
                          ],
                          [
                            0.1111111111111111,
                            "#46039f"
                          ],
                          [
                            0.2222222222222222,
                            "#7201a8"
                          ],
                          [
                            0.3333333333333333,
                            "#9c179e"
                          ],
                          [
                            0.4444444444444444,
                            "#bd3786"
                          ],
                          [
                            0.5555555555555556,
                            "#d8576b"
                          ],
                          [
                            0.6666666666666666,
                            "#ed7953"
                          ],
                          [
                            0.7777777777777778,
                            "#fb9f3a"
                          ],
                          [
                            0.8888888888888888,
                            "#fdca26"
                          ],
                          [
                            1,
                            "#f0f921"
                          ]
                        ],
                        "type": "heatmapgl"
                      }
                    ],
                    "histogram": [
                      {
                        "marker": {
                          "pattern": {
                            "fillmode": "overlay",
                            "size": 10,
                            "solidity": 0.2
                          }
                        },
                        "type": "histogram"
                      }
                    ],
                    "histogram2d": [
                      {
                        "colorbar": {
                          "outlinewidth": 0,
                          "ticks": ""
                        },
                        "colorscale": [
                          [
                            0,
                            "#0d0887"
                          ],
                          [
                            0.1111111111111111,
                            "#46039f"
                          ],
                          [
                            0.2222222222222222,
                            "#7201a8"
                          ],
                          [
                            0.3333333333333333,
                            "#9c179e"
                          ],
                          [
                            0.4444444444444444,
                            "#bd3786"
                          ],
                          [
                            0.5555555555555556,
                            "#d8576b"
                          ],
                          [
                            0.6666666666666666,
                            "#ed7953"
                          ],
                          [
                            0.7777777777777778,
                            "#fb9f3a"
                          ],
                          [
                            0.8888888888888888,
                            "#fdca26"
                          ],
                          [
                            1,
                            "#f0f921"
                          ]
                        ],
                        "type": "histogram2d"
                      }
                    ],
                    "histogram2dcontour": [
                      {
                        "colorbar": {
                          "outlinewidth": 0,
                          "ticks": ""
                        },
                        "colorscale": [
                          [
                            0,
                            "#0d0887"
                          ],
                          [
                            0.1111111111111111,
                            "#46039f"
                          ],
                          [
                            0.2222222222222222,
                            "#7201a8"
                          ],
                          [
                            0.3333333333333333,
                            "#9c179e"
                          ],
                          [
                            0.4444444444444444,
                            "#bd3786"
                          ],
                          [
                            0.5555555555555556,
                            "#d8576b"
                          ],
                          [
                            0.6666666666666666,
                            "#ed7953"
                          ],
                          [
                            0.7777777777777778,
                            "#fb9f3a"
                          ],
                          [
                            0.8888888888888888,
                            "#fdca26"
                          ],
                          [
                            1,
                            "#f0f921"
                          ]
                        ],
                        "type": "histogram2dcontour"
                      }
                    ],
                    "mesh3d": [
                      {
                        "colorbar": {
                          "outlinewidth": 0,
                          "ticks": ""
                        },
                        "type": "mesh3d"
                      }
                    ],
                    "parcoords": [
                      {
                        "line": {
                          "colorbar": {
                            "outlinewidth": 0,
                            "ticks": ""
                          }
                        },
                        "type": "parcoords"
                      }
                    ],
                    "pie": [
                      {
                        "automargin": true,
                        "type": "pie"
                      }
                    ],
                    "scatter": [
                      {
                        "fillpattern": {
                          "fillmode": "overlay",
                          "size": 10,
                          "solidity": 0.2
                        },
                        "type": "scatter"
                      }
                    ],
                    "scatter3d": [
                      {
                        "line": {
                          "colorbar": {
                            "outlinewidth": 0,
                            "ticks": ""
                          }
                        },
                        "marker": {
                          "colorbar": {
                            "outlinewidth": 0,
                            "ticks": ""
                          }
                        },
                        "type": "scatter3d"
                      }
                    ],
                    "scattercarpet": [
                      {
                        "marker": {
                          "colorbar": {
                            "outlinewidth": 0,
                            "ticks": ""
                          }
                        },
                        "type": "scattercarpet"
                      }
                    ],
                    "scattergeo": [
                      {
                        "marker": {
                          "colorbar": {
                            "outlinewidth": 0,
                            "ticks": ""
                          }
                        },
                        "type": "scattergeo"
                      }
                    ],
                    "scattergl": [
                      {
                        "marker": {
                          "colorbar": {
                            "outlinewidth": 0,
                            "ticks": ""
                          }
                        },
                        "type": "scattergl"
                      }
                    ],
                    "scattermapbox": [
                      {
                        "marker": {
                          "colorbar": {
                            "outlinewidth": 0,
                            "ticks": ""
                          }
                        },
                        "type": "scattermapbox"
                      }
                    ],
                    "scatterpolar": [
                      {
                        "marker": {
                          "colorbar": {
                            "outlinewidth": 0,
                            "ticks": ""
                          }
                        },
                        "type": "scatterpolar"
                      }
                    ],
                    "scatterpolargl": [
                      {
                        "marker": {
                          "colorbar": {
                            "outlinewidth": 0,
                            "ticks": ""
                          }
                        },
                        "type": "scatterpolargl"
                      }
                    ],
                    "scatterternary": [
                      {
                        "marker": {
                          "colorbar": {
                            "outlinewidth": 0,
                            "ticks": ""
                          }
                        },
                        "type": "scatterternary"
                      }
                    ],
                    "surface": [
                      {
                        "colorbar": {
                          "outlinewidth": 0,
                          "ticks": ""
                        },
                        "colorscale": [
                          [
                            0,
                            "#0d0887"
                          ],
                          [
                            0.1111111111111111,
                            "#46039f"
                          ],
                          [
                            0.2222222222222222,
                            "#7201a8"
                          ],
                          [
                            0.3333333333333333,
                            "#9c179e"
                          ],
                          [
                            0.4444444444444444,
                            "#bd3786"
                          ],
                          [
                            0.5555555555555556,
                            "#d8576b"
                          ],
                          [
                            0.6666666666666666,
                            "#ed7953"
                          ],
                          [
                            0.7777777777777778,
                            "#fb9f3a"
                          ],
                          [
                            0.8888888888888888,
                            "#fdca26"
                          ],
                          [
                            1,
                            "#f0f921"
                          ]
                        ],
                        "type": "surface"
                      }
                    ],
                    "table": [
                      {
                        "cells": {
                          "fill": {
                            "color": "#EBF0F8"
                          },
                          "line": {
                            "color": "white"
                          }
                        },
                        "header": {
                          "fill": {
                            "color": "#C8D4E3"
                          },
                          "line": {
                            "color": "white"
                          }
                        },
                        "type": "table"
                      }
                    ]
                  },
                  "layout": {
                    "annotationdefaults": {
                      "arrowcolor": "#2a3f5f",
                      "arrowhead": 0,
                      "arrowwidth": 1
                    },
                    "autotypenumbers": "strict",
                    "coloraxis": {
                      "colorbar": {
                        "outlinewidth": 0,
                        "ticks": ""
                      }
                    },
                    "colorscale": {
                      "diverging": [
                        [
                          0,
                          "#8e0152"
                        ],
                        [
                          0.1,
                          "#c51b7d"
                        ],
                        [
                          0.2,
                          "#de77ae"
                        ],
                        [
                          0.3,
                          "#f1b6da"
                        ],
                        [
                          0.4,
                          "#fde0ef"
                        ],
                        [
                          0.5,
                          "#f7f7f7"
                        ],
                        [
                          0.6,
                          "#e6f5d0"
                        ],
                        [
                          0.7,
                          "#b8e186"
                        ],
                        [
                          0.8,
                          "#7fbc41"
                        ],
                        [
                          0.9,
                          "#4d9221"
                        ],
                        [
                          1,
                          "#276419"
                        ]
                      ],
                      "sequential": [
                        [
                          0,
                          "#0d0887"
                        ],
                        [
                          0.1111111111111111,
                          "#46039f"
                        ],
                        [
                          0.2222222222222222,
                          "#7201a8"
                        ],
                        [
                          0.3333333333333333,
                          "#9c179e"
                        ],
                        [
                          0.4444444444444444,
                          "#bd3786"
                        ],
                        [
                          0.5555555555555556,
                          "#d8576b"
                        ],
                        [
                          0.6666666666666666,
                          "#ed7953"
                        ],
                        [
                          0.7777777777777778,
                          "#fb9f3a"
                        ],
                        [
                          0.8888888888888888,
                          "#fdca26"
                        ],
                        [
                          1,
                          "#f0f921"
                        ]
                      ],
                      "sequentialminus": [
                        [
                          0,
                          "#0d0887"
                        ],
                        [
                          0.1111111111111111,
                          "#46039f"
                        ],
                        [
                          0.2222222222222222,
                          "#7201a8"
                        ],
                        [
                          0.3333333333333333,
                          "#9c179e"
                        ],
                        [
                          0.4444444444444444,
                          "#bd3786"
                        ],
                        [
                          0.5555555555555556,
                          "#d8576b"
                        ],
                        [
                          0.6666666666666666,
                          "#ed7953"
                        ],
                        [
                          0.7777777777777778,
                          "#fb9f3a"
                        ],
                        [
                          0.8888888888888888,
                          "#fdca26"
                        ],
                        [
                          1,
                          "#f0f921"
                        ]
                      ]
                    },
                    "colorway": [
                      "#636efa",
                      "#EF553B",
                      "#00cc96",
                      "#ab63fa",
                      "#FFA15A",
                      "#19d3f3",
                      "#FF6692",
                      "#B6E880",
                      "#FF97FF",
                      "#FECB52"
                    ],
                    "font": {
                      "color": "#2a3f5f"
                    },
                    "geo": {
                      "bgcolor": "white",
                      "lakecolor": "white",
                      "landcolor": "#E5ECF6",
                      "showlakes": true,
                      "showland": true,
                      "subunitcolor": "white"
                    },
                    "hoverlabel": {
                      "align": "left"
                    },
                    "hovermode": "closest",
                    "mapbox": {
                      "style": "light"
                    },
                    "paper_bgcolor": "white",
                    "plot_bgcolor": "#E5ECF6",
                    "polar": {
                      "angularaxis": {
                        "gridcolor": "white",
                        "linecolor": "white",
                        "ticks": ""
                      },
                      "bgcolor": "#E5ECF6",
                      "radialaxis": {
                        "gridcolor": "white",
                        "linecolor": "white",
                        "ticks": ""
                      }
                    },
                    "scene": {
                      "xaxis": {
                        "backgroundcolor": "#E5ECF6",
                        "gridcolor": "white",
                        "gridwidth": 2,
                        "linecolor": "white",
                        "showbackground": true,
                        "ticks": "",
                        "zerolinecolor": "white"
                      },
                      "yaxis": {
                        "backgroundcolor": "#E5ECF6",
                        "gridcolor": "white",
                        "gridwidth": 2,
                        "linecolor": "white",
                        "showbackground": true,
                        "ticks": "",
                        "zerolinecolor": "white"
                      },
                      "zaxis": {
                        "backgroundcolor": "#E5ECF6",
                        "gridcolor": "white",
                        "gridwidth": 2,
                        "linecolor": "white",
                        "showbackground": true,
                        "ticks": "",
                        "zerolinecolor": "white"
                      }
                    },
                    "shapedefaults": {
                      "line": {
                        "color": "#2a3f5f"
                      }
                    },
                    "ternary": {
                      "aaxis": {
                        "gridcolor": "white",
                        "linecolor": "white",
                        "ticks": ""
                      },
                      "baxis": {
                        "gridcolor": "white",
                        "linecolor": "white",
                        "ticks": ""
                      },
                      "bgcolor": "#E5ECF6",
                      "caxis": {
                        "gridcolor": "white",
                        "linecolor": "white",
                        "ticks": ""
                      }
                    },
                    "title": {
                      "x": 0.05
                    },
                    "xaxis": {
                      "automargin": true,
                      "gridcolor": "white",
                      "linecolor": "white",
                      "ticks": "",
                      "title": {
                        "standoff": 15
                      },
                      "zerolinecolor": "white",
                      "zerolinewidth": 2
                    },
                    "yaxis": {
                      "automargin": true,
                      "gridcolor": "white",
                      "linecolor": "white",
                      "ticks": "",
                      "title": {
                        "standoff": 15
                      },
                      "zerolinecolor": "white",
                      "zerolinewidth": 2
                    }
                  }
                },
                "title": {
                  "text": "Average GDP vs. Average Unemployment Rate by Country"
                },
                "xaxis": {
                  "anchor": "y",
                  "domain": [
                    0,
                    1
                  ],
                  "title": {
                    "text": "Average Unemployment Rate"
                  }
                },
                "yaxis": {
                  "anchor": "x",
                  "domain": [
                    0,
                    1
                  ],
                  "title": {
                    "text": "Average GDP (USD)"
                  }
                }
              }
            }
          },
          "metadata": {},
          "output_type": "display_data"
        }
      ],
      "source": [
        "# relationship between the average GDP of each country and the average unemployment rate\n",
        "average_data = df.groupby('Country')[['GDP (USD)', 'Unemployment Rate (%)']].mean().reset_index()\n",
        "\n",
        "fig = px.scatter(\n",
        "    average_data,\n",
        "    x='Unemployment Rate (%)',\n",
        "    y='GDP (USD)',\n",
        "    text='Country',\n",
        "    title='Average GDP vs. Average Unemployment Rate by Country',\n",
        "    labels={'Unemployment Rate (%)': 'Average Unemployment Rate', 'GDP (USD)': 'Average GDP (USD)'},\n",
        "    hover_name='Country',\n",
        ")\n",
        "fig.show()"
      ]
    },
    {
      "cell_type": "markdown",
      "metadata": {
        "id": "daLzp3kb7-Wc"
      },
      "source": [
        "### Conclusion:\n",
        "The analysis shows that there is no clear linear relationship between GDP and unemployment rate in different countries. In some countries high GDP is accompanied by low unemployment, but in others this is not always the case. This indicates the influence of additional factors such as the structure of the economy and social policy."
      ]
    },
    {
      "cell_type": "code",
      "execution_count": 8,
      "metadata": {
        "colab": {
          "base_uri": "https://localhost:8080/",
          "height": 542
        },
        "id": "kNlXGxBM7-Wc",
        "outputId": "20972f39-dd6c-4eac-8a90-d2788146abad"
      },
      "outputs": [
        {
          "data": {
            "application/vnd.plotly.v1+json": {
              "config": {
                "plotlyServerURL": "https://plot.ly"
              },
              "data": [
                {
                  "hovertemplate": "<b>%{hovertext}</b><br><br>Average Population=%{marker.size}<br>Average Life Expectancy=%{marker.color}<br>Country=%{text}<extra></extra>",
                  "hovertext": [
                    "Argentina",
                    "Australia",
                    "Brazil",
                    "Canada",
                    "China",
                    "France",
                    "Germany",
                    "India",
                    "Indonesia",
                    "Italy",
                    "Japan",
                    "Mexico",
                    "Nigeria",
                    "Russia",
                    "Saudi Arabia",
                    "South Africa",
                    "South Korea",
                    "Turkey",
                    "United Kingdom",
                    "United States"
                  ],
                  "legendgroup": "",
                  "marker": {
                    "color": [
                      61.93333333333334,
                      68.78571428571429,
                      70.47142857142858,
                      65.92,
                      68.9,
                      59.44166666666666,
                      69.07142857142857,
                      69.45333333333333,
                      65.03846153846153,
                      63,
                      62.870000000000005,
                      64.76,
                      66.45555555555556,
                      63.587500000000006,
                      69.53846153846153,
                      70.4,
                      68.01666666666667,
                      70.57777777777777,
                      67.26153846153846,
                      66.21818181818182
                    ],
                    "coloraxis": "coloraxis",
                    "size": [
                      846112500,
                      586070000,
                      623842857.1428572,
                      630647000,
                      615900000,
                      591564166.6666666,
                      852024285.7142857,
                      561906000,
                      720563846.1538461,
                      760169166.6666666,
                      620397000,
                      760020000,
                      811968888.8888888,
                      801412500,
                      897554615.3846154,
                      935966250,
                      984196666.6666666,
                      596338888.8888888,
                      840212307.6923077,
                      822431818.1818181
                    ],
                    "sizemode": "area",
                    "sizeref": 273387.962962963,
                    "symbol": "circle"
                  },
                  "mode": "markers+text",
                  "name": "",
                  "orientation": "v",
                  "showlegend": false,
                  "text": [
                    "Argentina",
                    "Australia",
                    "Brazil",
                    "Canada",
                    "China",
                    "France",
                    "Germany",
                    "India",
                    "Indonesia",
                    "Italy",
                    "Japan",
                    "Mexico",
                    "Nigeria",
                    "Russia",
                    "Saudi Arabia",
                    "South Africa",
                    "South Korea",
                    "Turkey",
                    "United Kingdom",
                    "United States"
                  ],
                  "type": "scatter",
                  "x": [
                    846112500,
                    586070000,
                    623842857.1428572,
                    630647000,
                    615900000,
                    591564166.6666666,
                    852024285.7142857,
                    561906000,
                    720563846.1538461,
                    760169166.6666666,
                    620397000,
                    760020000,
                    811968888.8888888,
                    801412500,
                    897554615.3846154,
                    935966250,
                    984196666.6666666,
                    596338888.8888888,
                    840212307.6923077,
                    822431818.1818181
                  ],
                  "xaxis": "x",
                  "y": [
                    61.93333333333334,
                    68.78571428571429,
                    70.47142857142858,
                    65.92,
                    68.9,
                    59.44166666666666,
                    69.07142857142857,
                    69.45333333333333,
                    65.03846153846153,
                    63,
                    62.870000000000005,
                    64.76,
                    66.45555555555556,
                    63.587500000000006,
                    69.53846153846153,
                    70.4,
                    68.01666666666667,
                    70.57777777777777,
                    67.26153846153846,
                    66.21818181818182
                  ],
                  "yaxis": "y"
                }
              ],
              "layout": {
                "coloraxis": {
                  "colorbar": {
                    "title": {
                      "text": "Average Life Expectancy"
                    }
                  },
                  "colorscale": [
                    [
                      0,
                      "#0d0887"
                    ],
                    [
                      0.1111111111111111,
                      "#46039f"
                    ],
                    [
                      0.2222222222222222,
                      "#7201a8"
                    ],
                    [
                      0.3333333333333333,
                      "#9c179e"
                    ],
                    [
                      0.4444444444444444,
                      "#bd3786"
                    ],
                    [
                      0.5555555555555556,
                      "#d8576b"
                    ],
                    [
                      0.6666666666666666,
                      "#ed7953"
                    ],
                    [
                      0.7777777777777778,
                      "#fb9f3a"
                    ],
                    [
                      0.8888888888888888,
                      "#fdca26"
                    ],
                    [
                      1,
                      "#f0f921"
                    ]
                  ]
                },
                "legend": {
                  "itemsizing": "constant",
                  "tracegroupgap": 0
                },
                "template": {
                  "data": {
                    "bar": [
                      {
                        "error_x": {
                          "color": "#f2f5fa"
                        },
                        "error_y": {
                          "color": "#f2f5fa"
                        },
                        "marker": {
                          "line": {
                            "color": "rgb(17,17,17)",
                            "width": 0.5
                          },
                          "pattern": {
                            "fillmode": "overlay",
                            "size": 10,
                            "solidity": 0.2
                          }
                        },
                        "type": "bar"
                      }
                    ],
                    "barpolar": [
                      {
                        "marker": {
                          "line": {
                            "color": "rgb(17,17,17)",
                            "width": 0.5
                          },
                          "pattern": {
                            "fillmode": "overlay",
                            "size": 10,
                            "solidity": 0.2
                          }
                        },
                        "type": "barpolar"
                      }
                    ],
                    "carpet": [
                      {
                        "aaxis": {
                          "endlinecolor": "#A2B1C6",
                          "gridcolor": "#506784",
                          "linecolor": "#506784",
                          "minorgridcolor": "#506784",
                          "startlinecolor": "#A2B1C6"
                        },
                        "baxis": {
                          "endlinecolor": "#A2B1C6",
                          "gridcolor": "#506784",
                          "linecolor": "#506784",
                          "minorgridcolor": "#506784",
                          "startlinecolor": "#A2B1C6"
                        },
                        "type": "carpet"
                      }
                    ],
                    "choropleth": [
                      {
                        "colorbar": {
                          "outlinewidth": 0,
                          "ticks": ""
                        },
                        "type": "choropleth"
                      }
                    ],
                    "contour": [
                      {
                        "colorbar": {
                          "outlinewidth": 0,
                          "ticks": ""
                        },
                        "colorscale": [
                          [
                            0,
                            "#0d0887"
                          ],
                          [
                            0.1111111111111111,
                            "#46039f"
                          ],
                          [
                            0.2222222222222222,
                            "#7201a8"
                          ],
                          [
                            0.3333333333333333,
                            "#9c179e"
                          ],
                          [
                            0.4444444444444444,
                            "#bd3786"
                          ],
                          [
                            0.5555555555555556,
                            "#d8576b"
                          ],
                          [
                            0.6666666666666666,
                            "#ed7953"
                          ],
                          [
                            0.7777777777777778,
                            "#fb9f3a"
                          ],
                          [
                            0.8888888888888888,
                            "#fdca26"
                          ],
                          [
                            1,
                            "#f0f921"
                          ]
                        ],
                        "type": "contour"
                      }
                    ],
                    "contourcarpet": [
                      {
                        "colorbar": {
                          "outlinewidth": 0,
                          "ticks": ""
                        },
                        "type": "contourcarpet"
                      }
                    ],
                    "heatmap": [
                      {
                        "colorbar": {
                          "outlinewidth": 0,
                          "ticks": ""
                        },
                        "colorscale": [
                          [
                            0,
                            "#0d0887"
                          ],
                          [
                            0.1111111111111111,
                            "#46039f"
                          ],
                          [
                            0.2222222222222222,
                            "#7201a8"
                          ],
                          [
                            0.3333333333333333,
                            "#9c179e"
                          ],
                          [
                            0.4444444444444444,
                            "#bd3786"
                          ],
                          [
                            0.5555555555555556,
                            "#d8576b"
                          ],
                          [
                            0.6666666666666666,
                            "#ed7953"
                          ],
                          [
                            0.7777777777777778,
                            "#fb9f3a"
                          ],
                          [
                            0.8888888888888888,
                            "#fdca26"
                          ],
                          [
                            1,
                            "#f0f921"
                          ]
                        ],
                        "type": "heatmap"
                      }
                    ],
                    "heatmapgl": [
                      {
                        "colorbar": {
                          "outlinewidth": 0,
                          "ticks": ""
                        },
                        "colorscale": [
                          [
                            0,
                            "#0d0887"
                          ],
                          [
                            0.1111111111111111,
                            "#46039f"
                          ],
                          [
                            0.2222222222222222,
                            "#7201a8"
                          ],
                          [
                            0.3333333333333333,
                            "#9c179e"
                          ],
                          [
                            0.4444444444444444,
                            "#bd3786"
                          ],
                          [
                            0.5555555555555556,
                            "#d8576b"
                          ],
                          [
                            0.6666666666666666,
                            "#ed7953"
                          ],
                          [
                            0.7777777777777778,
                            "#fb9f3a"
                          ],
                          [
                            0.8888888888888888,
                            "#fdca26"
                          ],
                          [
                            1,
                            "#f0f921"
                          ]
                        ],
                        "type": "heatmapgl"
                      }
                    ],
                    "histogram": [
                      {
                        "marker": {
                          "pattern": {
                            "fillmode": "overlay",
                            "size": 10,
                            "solidity": 0.2
                          }
                        },
                        "type": "histogram"
                      }
                    ],
                    "histogram2d": [
                      {
                        "colorbar": {
                          "outlinewidth": 0,
                          "ticks": ""
                        },
                        "colorscale": [
                          [
                            0,
                            "#0d0887"
                          ],
                          [
                            0.1111111111111111,
                            "#46039f"
                          ],
                          [
                            0.2222222222222222,
                            "#7201a8"
                          ],
                          [
                            0.3333333333333333,
                            "#9c179e"
                          ],
                          [
                            0.4444444444444444,
                            "#bd3786"
                          ],
                          [
                            0.5555555555555556,
                            "#d8576b"
                          ],
                          [
                            0.6666666666666666,
                            "#ed7953"
                          ],
                          [
                            0.7777777777777778,
                            "#fb9f3a"
                          ],
                          [
                            0.8888888888888888,
                            "#fdca26"
                          ],
                          [
                            1,
                            "#f0f921"
                          ]
                        ],
                        "type": "histogram2d"
                      }
                    ],
                    "histogram2dcontour": [
                      {
                        "colorbar": {
                          "outlinewidth": 0,
                          "ticks": ""
                        },
                        "colorscale": [
                          [
                            0,
                            "#0d0887"
                          ],
                          [
                            0.1111111111111111,
                            "#46039f"
                          ],
                          [
                            0.2222222222222222,
                            "#7201a8"
                          ],
                          [
                            0.3333333333333333,
                            "#9c179e"
                          ],
                          [
                            0.4444444444444444,
                            "#bd3786"
                          ],
                          [
                            0.5555555555555556,
                            "#d8576b"
                          ],
                          [
                            0.6666666666666666,
                            "#ed7953"
                          ],
                          [
                            0.7777777777777778,
                            "#fb9f3a"
                          ],
                          [
                            0.8888888888888888,
                            "#fdca26"
                          ],
                          [
                            1,
                            "#f0f921"
                          ]
                        ],
                        "type": "histogram2dcontour"
                      }
                    ],
                    "mesh3d": [
                      {
                        "colorbar": {
                          "outlinewidth": 0,
                          "ticks": ""
                        },
                        "type": "mesh3d"
                      }
                    ],
                    "parcoords": [
                      {
                        "line": {
                          "colorbar": {
                            "outlinewidth": 0,
                            "ticks": ""
                          }
                        },
                        "type": "parcoords"
                      }
                    ],
                    "pie": [
                      {
                        "automargin": true,
                        "type": "pie"
                      }
                    ],
                    "scatter": [
                      {
                        "marker": {
                          "line": {
                            "color": "#283442"
                          }
                        },
                        "type": "scatter"
                      }
                    ],
                    "scatter3d": [
                      {
                        "line": {
                          "colorbar": {
                            "outlinewidth": 0,
                            "ticks": ""
                          }
                        },
                        "marker": {
                          "colorbar": {
                            "outlinewidth": 0,
                            "ticks": ""
                          }
                        },
                        "type": "scatter3d"
                      }
                    ],
                    "scattercarpet": [
                      {
                        "marker": {
                          "colorbar": {
                            "outlinewidth": 0,
                            "ticks": ""
                          }
                        },
                        "type": "scattercarpet"
                      }
                    ],
                    "scattergeo": [
                      {
                        "marker": {
                          "colorbar": {
                            "outlinewidth": 0,
                            "ticks": ""
                          }
                        },
                        "type": "scattergeo"
                      }
                    ],
                    "scattergl": [
                      {
                        "marker": {
                          "line": {
                            "color": "#283442"
                          }
                        },
                        "type": "scattergl"
                      }
                    ],
                    "scattermapbox": [
                      {
                        "marker": {
                          "colorbar": {
                            "outlinewidth": 0,
                            "ticks": ""
                          }
                        },
                        "type": "scattermapbox"
                      }
                    ],
                    "scatterpolar": [
                      {
                        "marker": {
                          "colorbar": {
                            "outlinewidth": 0,
                            "ticks": ""
                          }
                        },
                        "type": "scatterpolar"
                      }
                    ],
                    "scatterpolargl": [
                      {
                        "marker": {
                          "colorbar": {
                            "outlinewidth": 0,
                            "ticks": ""
                          }
                        },
                        "type": "scatterpolargl"
                      }
                    ],
                    "scatterternary": [
                      {
                        "marker": {
                          "colorbar": {
                            "outlinewidth": 0,
                            "ticks": ""
                          }
                        },
                        "type": "scatterternary"
                      }
                    ],
                    "surface": [
                      {
                        "colorbar": {
                          "outlinewidth": 0,
                          "ticks": ""
                        },
                        "colorscale": [
                          [
                            0,
                            "#0d0887"
                          ],
                          [
                            0.1111111111111111,
                            "#46039f"
                          ],
                          [
                            0.2222222222222222,
                            "#7201a8"
                          ],
                          [
                            0.3333333333333333,
                            "#9c179e"
                          ],
                          [
                            0.4444444444444444,
                            "#bd3786"
                          ],
                          [
                            0.5555555555555556,
                            "#d8576b"
                          ],
                          [
                            0.6666666666666666,
                            "#ed7953"
                          ],
                          [
                            0.7777777777777778,
                            "#fb9f3a"
                          ],
                          [
                            0.8888888888888888,
                            "#fdca26"
                          ],
                          [
                            1,
                            "#f0f921"
                          ]
                        ],
                        "type": "surface"
                      }
                    ],
                    "table": [
                      {
                        "cells": {
                          "fill": {
                            "color": "#506784"
                          },
                          "line": {
                            "color": "rgb(17,17,17)"
                          }
                        },
                        "header": {
                          "fill": {
                            "color": "#2a3f5f"
                          },
                          "line": {
                            "color": "rgb(17,17,17)"
                          }
                        },
                        "type": "table"
                      }
                    ]
                  },
                  "layout": {
                    "annotationdefaults": {
                      "arrowcolor": "#f2f5fa",
                      "arrowhead": 0,
                      "arrowwidth": 1
                    },
                    "autotypenumbers": "strict",
                    "coloraxis": {
                      "colorbar": {
                        "outlinewidth": 0,
                        "ticks": ""
                      }
                    },
                    "colorscale": {
                      "diverging": [
                        [
                          0,
                          "#8e0152"
                        ],
                        [
                          0.1,
                          "#c51b7d"
                        ],
                        [
                          0.2,
                          "#de77ae"
                        ],
                        [
                          0.3,
                          "#f1b6da"
                        ],
                        [
                          0.4,
                          "#fde0ef"
                        ],
                        [
                          0.5,
                          "#f7f7f7"
                        ],
                        [
                          0.6,
                          "#e6f5d0"
                        ],
                        [
                          0.7,
                          "#b8e186"
                        ],
                        [
                          0.8,
                          "#7fbc41"
                        ],
                        [
                          0.9,
                          "#4d9221"
                        ],
                        [
                          1,
                          "#276419"
                        ]
                      ],
                      "sequential": [
                        [
                          0,
                          "#0d0887"
                        ],
                        [
                          0.1111111111111111,
                          "#46039f"
                        ],
                        [
                          0.2222222222222222,
                          "#7201a8"
                        ],
                        [
                          0.3333333333333333,
                          "#9c179e"
                        ],
                        [
                          0.4444444444444444,
                          "#bd3786"
                        ],
                        [
                          0.5555555555555556,
                          "#d8576b"
                        ],
                        [
                          0.6666666666666666,
                          "#ed7953"
                        ],
                        [
                          0.7777777777777778,
                          "#fb9f3a"
                        ],
                        [
                          0.8888888888888888,
                          "#fdca26"
                        ],
                        [
                          1,
                          "#f0f921"
                        ]
                      ],
                      "sequentialminus": [
                        [
                          0,
                          "#0d0887"
                        ],
                        [
                          0.1111111111111111,
                          "#46039f"
                        ],
                        [
                          0.2222222222222222,
                          "#7201a8"
                        ],
                        [
                          0.3333333333333333,
                          "#9c179e"
                        ],
                        [
                          0.4444444444444444,
                          "#bd3786"
                        ],
                        [
                          0.5555555555555556,
                          "#d8576b"
                        ],
                        [
                          0.6666666666666666,
                          "#ed7953"
                        ],
                        [
                          0.7777777777777778,
                          "#fb9f3a"
                        ],
                        [
                          0.8888888888888888,
                          "#fdca26"
                        ],
                        [
                          1,
                          "#f0f921"
                        ]
                      ]
                    },
                    "colorway": [
                      "#636efa",
                      "#EF553B",
                      "#00cc96",
                      "#ab63fa",
                      "#FFA15A",
                      "#19d3f3",
                      "#FF6692",
                      "#B6E880",
                      "#FF97FF",
                      "#FECB52"
                    ],
                    "font": {
                      "color": "#f2f5fa"
                    },
                    "geo": {
                      "bgcolor": "rgb(17,17,17)",
                      "lakecolor": "rgb(17,17,17)",
                      "landcolor": "rgb(17,17,17)",
                      "showlakes": true,
                      "showland": true,
                      "subunitcolor": "#506784"
                    },
                    "hoverlabel": {
                      "align": "left"
                    },
                    "hovermode": "closest",
                    "mapbox": {
                      "style": "dark"
                    },
                    "paper_bgcolor": "rgb(17,17,17)",
                    "plot_bgcolor": "rgb(17,17,17)",
                    "polar": {
                      "angularaxis": {
                        "gridcolor": "#506784",
                        "linecolor": "#506784",
                        "ticks": ""
                      },
                      "bgcolor": "rgb(17,17,17)",
                      "radialaxis": {
                        "gridcolor": "#506784",
                        "linecolor": "#506784",
                        "ticks": ""
                      }
                    },
                    "scene": {
                      "xaxis": {
                        "backgroundcolor": "rgb(17,17,17)",
                        "gridcolor": "#506784",
                        "gridwidth": 2,
                        "linecolor": "#506784",
                        "showbackground": true,
                        "ticks": "",
                        "zerolinecolor": "#C8D4E3"
                      },
                      "yaxis": {
                        "backgroundcolor": "rgb(17,17,17)",
                        "gridcolor": "#506784",
                        "gridwidth": 2,
                        "linecolor": "#506784",
                        "showbackground": true,
                        "ticks": "",
                        "zerolinecolor": "#C8D4E3"
                      },
                      "zaxis": {
                        "backgroundcolor": "rgb(17,17,17)",
                        "gridcolor": "#506784",
                        "gridwidth": 2,
                        "linecolor": "#506784",
                        "showbackground": true,
                        "ticks": "",
                        "zerolinecolor": "#C8D4E3"
                      }
                    },
                    "shapedefaults": {
                      "line": {
                        "color": "#f2f5fa"
                      }
                    },
                    "sliderdefaults": {
                      "bgcolor": "#C8D4E3",
                      "bordercolor": "rgb(17,17,17)",
                      "borderwidth": 1,
                      "tickwidth": 0
                    },
                    "ternary": {
                      "aaxis": {
                        "gridcolor": "#506784",
                        "linecolor": "#506784",
                        "ticks": ""
                      },
                      "baxis": {
                        "gridcolor": "#506784",
                        "linecolor": "#506784",
                        "ticks": ""
                      },
                      "bgcolor": "rgb(17,17,17)",
                      "caxis": {
                        "gridcolor": "#506784",
                        "linecolor": "#506784",
                        "ticks": ""
                      }
                    },
                    "title": {
                      "x": 0.05
                    },
                    "updatemenudefaults": {
                      "bgcolor": "#506784",
                      "borderwidth": 0
                    },
                    "xaxis": {
                      "automargin": true,
                      "gridcolor": "#283442",
                      "linecolor": "#506784",
                      "ticks": "",
                      "title": {
                        "standoff": 15
                      },
                      "zerolinecolor": "#283442",
                      "zerolinewidth": 2
                    },
                    "yaxis": {
                      "automargin": true,
                      "gridcolor": "#283442",
                      "linecolor": "#506784",
                      "ticks": "",
                      "title": {
                        "standoff": 15
                      },
                      "zerolinecolor": "#283442",
                      "zerolinewidth": 2
                    }
                  }
                },
                "title": {
                  "text": "Average Life Expectancy vs. Average Population by Country"
                },
                "xaxis": {
                  "anchor": "y",
                  "domain": [
                    0,
                    1
                  ],
                  "title": {
                    "text": "Average Population"
                  }
                },
                "yaxis": {
                  "anchor": "x",
                  "domain": [
                    0,
                    1
                  ],
                  "title": {
                    "text": "Average Life Expectancy"
                  }
                }
              }
            }
          },
          "metadata": {},
          "output_type": "display_data"
        }
      ],
      "source": [
        "# Average Life Expectancy vs. Average Population by Country\n",
        "average_data_life = df.groupby('Country', as_index=False).agg({\n",
        "    'Population': 'mean',\n",
        "    'Life Expectancy': 'mean'\n",
        "})\n",
        "\n",
        "fig = px.scatter(\n",
        "    average_data_life,\n",
        "    x='Population',\n",
        "    y='Life Expectancy',\n",
        "    size='Population',\n",
        "    color='Life Expectancy',\n",
        "    text='Country',\n",
        "    title='Average Life Expectancy vs. Average Population by Country',\n",
        "    labels={'Population': 'Average Population', 'Life Expectancy': 'Average Life Expectancy'},\n",
        "    hover_name='Country',\n",
        "    size_max=60,\n",
        "    template='plotly_dark'\n",
        ")\n",
        "fig.show()"
      ]
    },
    {
      "cell_type": "markdown",
      "metadata": {
        "id": "IwxgjgOt7-Wc"
      },
      "source": [
        "Conclusion: The visualization shows that countries with higher populations can have both high and low life expectancy. This shows that life expectancy does not necessarily depend on the size of the population, but rather on the quality of life and level of health care."
      ]
    },
    {
      "cell_type": "code",
      "execution_count": 9,
      "metadata": {
        "colab": {
          "base_uri": "https://localhost:8080/",
          "height": 542
        },
        "id": "xIkLMaPk7-Wd",
        "outputId": "9f2779ec-9129-4370-b1f8-7b0867c26429"
      },
      "outputs": [
        {
          "data": {
            "application/vnd.plotly.v1+json": {
              "config": {
                "plotlyServerURL": "https://plot.ly"
              },
              "data": [
                {
                  "coloraxis": "coloraxis",
                  "geo": "geo",
                  "hovertemplate": "<b>%{hovertext}</b><br><br>Year=2010<br>Country=%{location}<br>Population=%{z}<extra></extra>",
                  "hovertext": [
                    "Brazil",
                    "Canada",
                    "Saudi Arabia",
                    "United States",
                    "China",
                    "Italy",
                    "Australia",
                    "South Africa",
                    "Saudi Arabia",
                    "Australia",
                    "Argentina",
                    "Japan",
                    "Saudi Arabia",
                    "Germany",
                    "Saudi Arabia",
                    "South Africa",
                    "Japan",
                    "India",
                    "Japan",
                    "Italy"
                  ],
                  "locationmode": "country names",
                  "locations": [
                    "Brazil",
                    "Canada",
                    "Saudi Arabia",
                    "United States",
                    "China",
                    "Italy",
                    "Australia",
                    "South Africa",
                    "Saudi Arabia",
                    "Australia",
                    "Argentina",
                    "Japan",
                    "Saudi Arabia",
                    "Germany",
                    "Saudi Arabia",
                    "South Africa",
                    "Japan",
                    "India",
                    "Japan",
                    "Italy"
                  ],
                  "name": "",
                  "type": "choropleth",
                  "z": [
                    829020000,
                    909050000,
                    1041990000,
                    705930000,
                    149740000,
                    1485050000,
                    151690000,
                    552640000,
                    258460000,
                    106600000,
                    77350000,
                    975960000,
                    1160850000,
                    820240000,
                    1498060000,
                    945010000,
                    1005960000,
                    93430000,
                    234270000,
                    591930000
                  ]
                }
              ],
              "frames": [
                {
                  "data": [
                    {
                      "coloraxis": "coloraxis",
                      "geo": "geo",
                      "hovertemplate": "<b>%{hovertext}</b><br><br>Year=2010<br>Country=%{location}<br>Population=%{z}<extra></extra>",
                      "hovertext": [
                        "Brazil",
                        "Canada",
                        "Saudi Arabia",
                        "United States",
                        "China",
                        "Italy",
                        "Australia",
                        "South Africa",
                        "Saudi Arabia",
                        "Australia",
                        "Argentina",
                        "Japan",
                        "Saudi Arabia",
                        "Germany",
                        "Saudi Arabia",
                        "South Africa",
                        "Japan",
                        "India",
                        "Japan",
                        "Italy"
                      ],
                      "locationmode": "country names",
                      "locations": [
                        "Brazil",
                        "Canada",
                        "Saudi Arabia",
                        "United States",
                        "China",
                        "Italy",
                        "Australia",
                        "South Africa",
                        "Saudi Arabia",
                        "Australia",
                        "Argentina",
                        "Japan",
                        "Saudi Arabia",
                        "Germany",
                        "Saudi Arabia",
                        "South Africa",
                        "Japan",
                        "India",
                        "Japan",
                        "Italy"
                      ],
                      "name": "",
                      "type": "choropleth",
                      "z": [
                        829020000,
                        909050000,
                        1041990000,
                        705930000,
                        149740000,
                        1485050000,
                        151690000,
                        552640000,
                        258460000,
                        106600000,
                        77350000,
                        975960000,
                        1160850000,
                        820240000,
                        1498060000,
                        945010000,
                        1005960000,
                        93430000,
                        234270000,
                        591930000
                      ]
                    }
                  ],
                  "name": "2010"
                },
                {
                  "data": [
                    {
                      "coloraxis": "coloraxis",
                      "geo": "geo",
                      "hovertemplate": "<b>%{hovertext}</b><br><br>Year=2011<br>Country=%{location}<br>Population=%{z}<extra></extra>",
                      "hovertext": [
                        "Japan",
                        "Argentina",
                        "Russia",
                        "United Kingdom",
                        "Indonesia",
                        "Japan",
                        "Canada",
                        "India",
                        "China",
                        "Saudi Arabia",
                        "Australia",
                        "Canada",
                        "Nigeria",
                        "India",
                        "Italy",
                        "Mexico",
                        "Indonesia",
                        "Germany",
                        "Turkey",
                        "India"
                      ],
                      "locationmode": "country names",
                      "locations": [
                        "Japan",
                        "Argentina",
                        "Russia",
                        "United Kingdom",
                        "Indonesia",
                        "Japan",
                        "Canada",
                        "India",
                        "China",
                        "Saudi Arabia",
                        "Australia",
                        "Canada",
                        "Nigeria",
                        "India",
                        "Italy",
                        "Mexico",
                        "Indonesia",
                        "Germany",
                        "Turkey",
                        "India"
                      ],
                      "name": "",
                      "type": "choropleth",
                      "z": [
                        897010000,
                        1084140000,
                        932420000,
                        849830000,
                        254580000,
                        262160000.00000003,
                        405930000,
                        890250000,
                        67570000,
                        934960000,
                        360220000,
                        334480000,
                        1179260000,
                        582170000,
                        159020000,
                        1417300000,
                        502780000,
                        673660000,
                        1374010000,
                        369290000
                      ]
                    }
                  ],
                  "name": "2011"
                },
                {
                  "data": [
                    {
                      "coloraxis": "coloraxis",
                      "geo": "geo",
                      "hovertemplate": "<b>%{hovertext}</b><br><br>Year=2012<br>Country=%{location}<br>Population=%{z}<extra></extra>",
                      "hovertext": [
                        "India",
                        "India",
                        "France",
                        "Nigeria",
                        "United States",
                        "United Kingdom",
                        "South Africa",
                        "United States",
                        "United Kingdom",
                        "Russia",
                        "Argentina",
                        "India",
                        "Argentina",
                        "Turkey",
                        "France",
                        "Turkey",
                        "Argentina",
                        "United Kingdom",
                        "Indonesia",
                        "United States"
                      ],
                      "locationmode": "country names",
                      "locations": [
                        "India",
                        "India",
                        "France",
                        "Nigeria",
                        "United States",
                        "United Kingdom",
                        "South Africa",
                        "United States",
                        "United Kingdom",
                        "Russia",
                        "Argentina",
                        "India",
                        "Argentina",
                        "Turkey",
                        "France",
                        "Turkey",
                        "Argentina",
                        "United Kingdom",
                        "Indonesia",
                        "United States"
                      ],
                      "name": "",
                      "type": "choropleth",
                      "z": [
                        669850000,
                        818780000,
                        227020000,
                        313530000,
                        566290000,
                        1394680000,
                        862690000,
                        56210000,
                        1283910000,
                        992500000,
                        691470000,
                        573050000,
                        1089730000,
                        958910000,
                        446060000,
                        1287970000,
                        170590000,
                        640390000,
                        576540000,
                        274330000
                      ]
                    }
                  ],
                  "name": "2012"
                },
                {
                  "data": [
                    {
                      "coloraxis": "coloraxis",
                      "geo": "geo",
                      "hovertemplate": "<b>%{hovertext}</b><br><br>Year=2013<br>Country=%{location}<br>Population=%{z}<extra></extra>",
                      "hovertext": [
                        "Mexico",
                        "Nigeria",
                        "China",
                        "Brazil",
                        "Mexico",
                        "Italy",
                        "Russia",
                        "United Kingdom",
                        "Russia",
                        "United States",
                        "South Korea",
                        "Brazil",
                        "Germany",
                        "Turkey",
                        "Canada",
                        "Turkey",
                        "China",
                        "Indonesia",
                        "France",
                        "South Korea"
                      ],
                      "locationmode": "country names",
                      "locations": [
                        "Mexico",
                        "Nigeria",
                        "China",
                        "Brazil",
                        "Mexico",
                        "Italy",
                        "Russia",
                        "United Kingdom",
                        "Russia",
                        "United States",
                        "South Korea",
                        "Brazil",
                        "Germany",
                        "Turkey",
                        "Canada",
                        "Turkey",
                        "China",
                        "Indonesia",
                        "France",
                        "South Korea"
                      ],
                      "name": "",
                      "type": "choropleth",
                      "z": [
                        113800000,
                        447700000,
                        578590000,
                        1207240000,
                        722090000,
                        314660000,
                        541370000,
                        719240000,
                        845880000,
                        1285540000,
                        779960000,
                        533250000,
                        169820000,
                        117270000,
                        1383380000,
                        129910000,
                        1398370000,
                        549950000,
                        317040000,
                        643250000
                      ]
                    }
                  ],
                  "name": "2013"
                },
                {
                  "data": [
                    {
                      "coloraxis": "coloraxis",
                      "geo": "geo",
                      "hovertemplate": "<b>%{hovertext}</b><br><br>Year=2014<br>Country=%{location}<br>Population=%{z}<extra></extra>",
                      "hovertext": [
                        "India",
                        "Italy",
                        "United States",
                        "Nigeria",
                        "Brazil",
                        "Indonesia",
                        "South Africa",
                        "Indonesia",
                        "Italy",
                        "Italy",
                        "Nigeria",
                        "France",
                        "Canada",
                        "Mexico",
                        "United States",
                        "Indonesia",
                        "Mexico",
                        "France",
                        "Russia",
                        "Germany"
                      ],
                      "locationmode": "country names",
                      "locations": [
                        "India",
                        "Italy",
                        "United States",
                        "Nigeria",
                        "Brazil",
                        "Indonesia",
                        "South Africa",
                        "Indonesia",
                        "Italy",
                        "Italy",
                        "Nigeria",
                        "France",
                        "Canada",
                        "Mexico",
                        "United States",
                        "Indonesia",
                        "Mexico",
                        "France",
                        "Russia",
                        "Germany"
                      ],
                      "name": "",
                      "type": "choropleth",
                      "z": [
                        29710000,
                        238740000,
                        1279810000,
                        1428660000,
                        255730000,
                        444620000,
                        1492770000,
                        570500000,
                        1243970000,
                        1367090000,
                        1327490000,
                        9970000,
                        414680000,
                        971670000,
                        569860000,
                        1384170000,
                        257480000.00000003,
                        130660000,
                        661490000,
                        649390000
                      ]
                    }
                  ],
                  "name": "2014"
                },
                {
                  "data": [
                    {
                      "coloraxis": "coloraxis",
                      "geo": "geo",
                      "hovertemplate": "<b>%{hovertext}</b><br><br>Year=2015<br>Country=%{location}<br>Population=%{z}<extra></extra>",
                      "hovertext": [
                        "United Kingdom",
                        "Indonesia",
                        "Argentina",
                        "Italy",
                        "China",
                        "Indonesia",
                        "Argentina",
                        "India",
                        "Nigeria",
                        "United Kingdom",
                        "Italy",
                        "Germany",
                        "Russia",
                        "China",
                        "Japan",
                        "South Africa",
                        "Canada",
                        "India",
                        "Brazil",
                        "India"
                      ],
                      "locationmode": "country names",
                      "locations": [
                        "United Kingdom",
                        "Indonesia",
                        "Argentina",
                        "Italy",
                        "China",
                        "Indonesia",
                        "Argentina",
                        "India",
                        "Nigeria",
                        "United Kingdom",
                        "Italy",
                        "Germany",
                        "Russia",
                        "China",
                        "Japan",
                        "South Africa",
                        "Canada",
                        "India",
                        "Brazil",
                        "India"
                      ],
                      "name": "",
                      "type": "choropleth",
                      "z": [
                        722560000,
                        348990000,
                        1304040000,
                        104310000,
                        603690000,
                        1311010000,
                        1030620000,
                        208150000,
                        1088040000,
                        370940000,
                        915300000,
                        1235080000,
                        544360000,
                        535040000,
                        1192430000,
                        749390000,
                        1109080000,
                        1367400000,
                        359010000,
                        672780000
                      ]
                    }
                  ],
                  "name": "2015"
                },
                {
                  "data": [
                    {
                      "coloraxis": "coloraxis",
                      "geo": "geo",
                      "hovertemplate": "<b>%{hovertext}</b><br><br>Year=2016<br>Country=%{location}<br>Population=%{z}<extra></extra>",
                      "hovertext": [
                        "China",
                        "Turkey",
                        "Germany",
                        "Saudi Arabia",
                        "India",
                        "Saudi Arabia",
                        "Canada",
                        "South Korea",
                        "Australia",
                        "United Kingdom",
                        "South Korea",
                        "Argentina",
                        "Russia",
                        "Australia",
                        "Russia",
                        "Indonesia",
                        "India",
                        "South Africa",
                        "United Kingdom",
                        "Australia"
                      ],
                      "locationmode": "country names",
                      "locations": [
                        "China",
                        "Turkey",
                        "Germany",
                        "Saudi Arabia",
                        "India",
                        "Saudi Arabia",
                        "Canada",
                        "South Korea",
                        "Australia",
                        "United Kingdom",
                        "South Korea",
                        "Argentina",
                        "Russia",
                        "Australia",
                        "Russia",
                        "Indonesia",
                        "India",
                        "South Africa",
                        "United Kingdom",
                        "Australia"
                      ],
                      "name": "",
                      "type": "choropleth",
                      "z": [
                        1492810000,
                        257480000.00000003,
                        1344860000,
                        756200000,
                        1011750000,
                        1329040000,
                        273750000,
                        1349290000,
                        574500000,
                        1158500000,
                        568050000,
                        1481130000,
                        865490000,
                        1129800000,
                        1027790000,
                        1453920000,
                        96360000,
                        1083480000,
                        1300930000,
                        689650000
                      ]
                    }
                  ],
                  "name": "2016"
                },
                {
                  "data": [
                    {
                      "coloraxis": "coloraxis",
                      "geo": "geo",
                      "hovertemplate": "<b>%{hovertext}</b><br><br>Year=2017<br>Country=%{location}<br>Population=%{z}<extra></extra>",
                      "hovertext": [
                        "Indonesia",
                        "Saudi Arabia",
                        "Italy",
                        "South Korea",
                        "United States",
                        "Nigeria",
                        "Mexico",
                        "Mexico",
                        "Canada",
                        "Japan",
                        "Germany",
                        "South Africa",
                        "Turkey",
                        "France",
                        "Argentina",
                        "Indonesia",
                        "Argentina",
                        "Mexico",
                        "United States",
                        "United States"
                      ],
                      "locationmode": "country names",
                      "locations": [
                        "Indonesia",
                        "Saudi Arabia",
                        "Italy",
                        "South Korea",
                        "United States",
                        "Nigeria",
                        "Mexico",
                        "Mexico",
                        "Canada",
                        "Japan",
                        "Germany",
                        "South Africa",
                        "Turkey",
                        "France",
                        "Argentina",
                        "Indonesia",
                        "Argentina",
                        "Mexico",
                        "United States",
                        "United States"
                      ],
                      "name": "",
                      "type": "choropleth",
                      "z": [
                        118240000,
                        1285920000,
                        931890000,
                        1219400000,
                        656050000,
                        51740000,
                        815030000,
                        1216530000,
                        721250000,
                        72280000,
                        1071120000,
                        1033360000,
                        965840000,
                        1441290000,
                        574860000,
                        766010000,
                        993250000,
                        584570000,
                        1233280000,
                        1234820000
                      ]
                    }
                  ],
                  "name": "2017"
                },
                {
                  "data": [
                    {
                      "coloraxis": "coloraxis",
                      "geo": "geo",
                      "hovertemplate": "<b>%{hovertext}</b><br><br>Year=2018<br>Country=%{location}<br>Population=%{z}<extra></extra>",
                      "hovertext": [
                        "United Kingdom",
                        "Nigeria",
                        "Mexico",
                        "Australia",
                        "China",
                        "France",
                        "Japan",
                        "India",
                        "Saudi Arabia",
                        "Japan",
                        "South Africa",
                        "France",
                        "France",
                        "Saudi Arabia",
                        "South Korea",
                        "United Kingdom",
                        "France",
                        "Argentina",
                        "Mexico",
                        "Canada"
                      ],
                      "locationmode": "country names",
                      "locations": [
                        "United Kingdom",
                        "Nigeria",
                        "Mexico",
                        "Australia",
                        "China",
                        "France",
                        "Japan",
                        "India",
                        "Saudi Arabia",
                        "Japan",
                        "South Africa",
                        "France",
                        "France",
                        "Saudi Arabia",
                        "South Korea",
                        "United Kingdom",
                        "France",
                        "Argentina",
                        "Mexico",
                        "Canada"
                      ],
                      "name": "",
                      "type": "choropleth",
                      "z": [
                        1461580000,
                        158310000,
                        1013430000,
                        1090030000,
                        101390000,
                        59660000,
                        110470000,
                        243570000,
                        1065010000,
                        1054590000,
                        768390000,
                        1174000000,
                        1041960000,
                        1307180000,
                        1345230000,
                        129890000,
                        74990000,
                        1268650000,
                        488300000,
                        262590000
                      ]
                    }
                  ],
                  "name": "2018"
                },
                {
                  "data": [
                    {
                      "coloraxis": "coloraxis",
                      "geo": "geo",
                      "hovertemplate": "<b>%{hovertext}</b><br><br>Year=2019<br>Country=%{location}<br>Population=%{z}<extra></extra>",
                      "hovertext": [
                        "India",
                        "Saudi Arabia",
                        "United Kingdom",
                        "Brazil",
                        "Brazil",
                        "France",
                        "United States",
                        "Saudi Arabia",
                        "France",
                        "Nigeria",
                        "Indonesia",
                        "Saudi Arabia",
                        "Italy",
                        "Turkey",
                        "Japan",
                        "Canada",
                        "Turkey",
                        "Argentina",
                        "Italy",
                        "United Kingdom"
                      ],
                      "locationmode": "country names",
                      "locations": [
                        "India",
                        "Saudi Arabia",
                        "United Kingdom",
                        "Brazil",
                        "Brazil",
                        "France",
                        "United States",
                        "Saudi Arabia",
                        "France",
                        "Nigeria",
                        "Indonesia",
                        "Saudi Arabia",
                        "Italy",
                        "Turkey",
                        "Japan",
                        "Canada",
                        "Turkey",
                        "Argentina",
                        "Italy",
                        "United Kingdom"
                      ],
                      "name": "",
                      "type": "choropleth",
                      "z": [
                        802050000,
                        766880000,
                        354840000,
                        815700000,
                        366950000,
                        1093350000,
                        1184630000,
                        31010000,
                        1082770000,
                        1312990000,
                        1086020000,
                        232650000,
                        605040000,
                        263690000,
                        398840000,
                        492280000,
                        11970000,
                        387520000,
                        1165030000,
                        535470000
                      ]
                    }
                  ],
                  "name": "2019"
                }
              ],
              "layout": {
                "coloraxis": {
                  "colorbar": {
                    "title": {
                      "text": "Population"
                    }
                  },
                  "colorscale": [
                    [
                      0,
                      "#440154"
                    ],
                    [
                      0.1111111111111111,
                      "#482878"
                    ],
                    [
                      0.2222222222222222,
                      "#3e4989"
                    ],
                    [
                      0.3333333333333333,
                      "#31688e"
                    ],
                    [
                      0.4444444444444444,
                      "#26828e"
                    ],
                    [
                      0.5555555555555556,
                      "#1f9e89"
                    ],
                    [
                      0.6666666666666666,
                      "#35b779"
                    ],
                    [
                      0.7777777777777778,
                      "#6ece58"
                    ],
                    [
                      0.8888888888888888,
                      "#b5de2b"
                    ],
                    [
                      1,
                      "#fde725"
                    ]
                  ]
                },
                "geo": {
                  "center": {},
                  "domain": {
                    "x": [
                      0,
                      1
                    ],
                    "y": [
                      0,
                      1
                    ]
                  }
                },
                "legend": {
                  "tracegroupgap": 0
                },
                "sliders": [
                  {
                    "active": 0,
                    "currentvalue": {
                      "prefix": "Year="
                    },
                    "len": 0.9,
                    "pad": {
                      "b": 10,
                      "t": 60
                    },
                    "steps": [
                      {
                        "args": [
                          [
                            "2010"
                          ],
                          {
                            "frame": {
                              "duration": 0,
                              "redraw": true
                            },
                            "fromcurrent": true,
                            "mode": "immediate",
                            "transition": {
                              "duration": 0,
                              "easing": "linear"
                            }
                          }
                        ],
                        "label": "2010",
                        "method": "animate"
                      },
                      {
                        "args": [
                          [
                            "2011"
                          ],
                          {
                            "frame": {
                              "duration": 0,
                              "redraw": true
                            },
                            "fromcurrent": true,
                            "mode": "immediate",
                            "transition": {
                              "duration": 0,
                              "easing": "linear"
                            }
                          }
                        ],
                        "label": "2011",
                        "method": "animate"
                      },
                      {
                        "args": [
                          [
                            "2012"
                          ],
                          {
                            "frame": {
                              "duration": 0,
                              "redraw": true
                            },
                            "fromcurrent": true,
                            "mode": "immediate",
                            "transition": {
                              "duration": 0,
                              "easing": "linear"
                            }
                          }
                        ],
                        "label": "2012",
                        "method": "animate"
                      },
                      {
                        "args": [
                          [
                            "2013"
                          ],
                          {
                            "frame": {
                              "duration": 0,
                              "redraw": true
                            },
                            "fromcurrent": true,
                            "mode": "immediate",
                            "transition": {
                              "duration": 0,
                              "easing": "linear"
                            }
                          }
                        ],
                        "label": "2013",
                        "method": "animate"
                      },
                      {
                        "args": [
                          [
                            "2014"
                          ],
                          {
                            "frame": {
                              "duration": 0,
                              "redraw": true
                            },
                            "fromcurrent": true,
                            "mode": "immediate",
                            "transition": {
                              "duration": 0,
                              "easing": "linear"
                            }
                          }
                        ],
                        "label": "2014",
                        "method": "animate"
                      },
                      {
                        "args": [
                          [
                            "2015"
                          ],
                          {
                            "frame": {
                              "duration": 0,
                              "redraw": true
                            },
                            "fromcurrent": true,
                            "mode": "immediate",
                            "transition": {
                              "duration": 0,
                              "easing": "linear"
                            }
                          }
                        ],
                        "label": "2015",
                        "method": "animate"
                      },
                      {
                        "args": [
                          [
                            "2016"
                          ],
                          {
                            "frame": {
                              "duration": 0,
                              "redraw": true
                            },
                            "fromcurrent": true,
                            "mode": "immediate",
                            "transition": {
                              "duration": 0,
                              "easing": "linear"
                            }
                          }
                        ],
                        "label": "2016",
                        "method": "animate"
                      },
                      {
                        "args": [
                          [
                            "2017"
                          ],
                          {
                            "frame": {
                              "duration": 0,
                              "redraw": true
                            },
                            "fromcurrent": true,
                            "mode": "immediate",
                            "transition": {
                              "duration": 0,
                              "easing": "linear"
                            }
                          }
                        ],
                        "label": "2017",
                        "method": "animate"
                      },
                      {
                        "args": [
                          [
                            "2018"
                          ],
                          {
                            "frame": {
                              "duration": 0,
                              "redraw": true
                            },
                            "fromcurrent": true,
                            "mode": "immediate",
                            "transition": {
                              "duration": 0,
                              "easing": "linear"
                            }
                          }
                        ],
                        "label": "2018",
                        "method": "animate"
                      },
                      {
                        "args": [
                          [
                            "2019"
                          ],
                          {
                            "frame": {
                              "duration": 0,
                              "redraw": true
                            },
                            "fromcurrent": true,
                            "mode": "immediate",
                            "transition": {
                              "duration": 0,
                              "easing": "linear"
                            }
                          }
                        ],
                        "label": "2019",
                        "method": "animate"
                      }
                    ],
                    "x": 0.1,
                    "xanchor": "left",
                    "y": 0,
                    "yanchor": "top"
                  }
                ],
                "template": {
                  "data": {
                    "bar": [
                      {
                        "error_x": {
                          "color": "#f2f5fa"
                        },
                        "error_y": {
                          "color": "#f2f5fa"
                        },
                        "marker": {
                          "line": {
                            "color": "rgb(17,17,17)",
                            "width": 0.5
                          },
                          "pattern": {
                            "fillmode": "overlay",
                            "size": 10,
                            "solidity": 0.2
                          }
                        },
                        "type": "bar"
                      }
                    ],
                    "barpolar": [
                      {
                        "marker": {
                          "line": {
                            "color": "rgb(17,17,17)",
                            "width": 0.5
                          },
                          "pattern": {
                            "fillmode": "overlay",
                            "size": 10,
                            "solidity": 0.2
                          }
                        },
                        "type": "barpolar"
                      }
                    ],
                    "carpet": [
                      {
                        "aaxis": {
                          "endlinecolor": "#A2B1C6",
                          "gridcolor": "#506784",
                          "linecolor": "#506784",
                          "minorgridcolor": "#506784",
                          "startlinecolor": "#A2B1C6"
                        },
                        "baxis": {
                          "endlinecolor": "#A2B1C6",
                          "gridcolor": "#506784",
                          "linecolor": "#506784",
                          "minorgridcolor": "#506784",
                          "startlinecolor": "#A2B1C6"
                        },
                        "type": "carpet"
                      }
                    ],
                    "choropleth": [
                      {
                        "colorbar": {
                          "outlinewidth": 0,
                          "ticks": ""
                        },
                        "type": "choropleth"
                      }
                    ],
                    "contour": [
                      {
                        "colorbar": {
                          "outlinewidth": 0,
                          "ticks": ""
                        },
                        "colorscale": [
                          [
                            0,
                            "#0d0887"
                          ],
                          [
                            0.1111111111111111,
                            "#46039f"
                          ],
                          [
                            0.2222222222222222,
                            "#7201a8"
                          ],
                          [
                            0.3333333333333333,
                            "#9c179e"
                          ],
                          [
                            0.4444444444444444,
                            "#bd3786"
                          ],
                          [
                            0.5555555555555556,
                            "#d8576b"
                          ],
                          [
                            0.6666666666666666,
                            "#ed7953"
                          ],
                          [
                            0.7777777777777778,
                            "#fb9f3a"
                          ],
                          [
                            0.8888888888888888,
                            "#fdca26"
                          ],
                          [
                            1,
                            "#f0f921"
                          ]
                        ],
                        "type": "contour"
                      }
                    ],
                    "contourcarpet": [
                      {
                        "colorbar": {
                          "outlinewidth": 0,
                          "ticks": ""
                        },
                        "type": "contourcarpet"
                      }
                    ],
                    "heatmap": [
                      {
                        "colorbar": {
                          "outlinewidth": 0,
                          "ticks": ""
                        },
                        "colorscale": [
                          [
                            0,
                            "#0d0887"
                          ],
                          [
                            0.1111111111111111,
                            "#46039f"
                          ],
                          [
                            0.2222222222222222,
                            "#7201a8"
                          ],
                          [
                            0.3333333333333333,
                            "#9c179e"
                          ],
                          [
                            0.4444444444444444,
                            "#bd3786"
                          ],
                          [
                            0.5555555555555556,
                            "#d8576b"
                          ],
                          [
                            0.6666666666666666,
                            "#ed7953"
                          ],
                          [
                            0.7777777777777778,
                            "#fb9f3a"
                          ],
                          [
                            0.8888888888888888,
                            "#fdca26"
                          ],
                          [
                            1,
                            "#f0f921"
                          ]
                        ],
                        "type": "heatmap"
                      }
                    ],
                    "heatmapgl": [
                      {
                        "colorbar": {
                          "outlinewidth": 0,
                          "ticks": ""
                        },
                        "colorscale": [
                          [
                            0,
                            "#0d0887"
                          ],
                          [
                            0.1111111111111111,
                            "#46039f"
                          ],
                          [
                            0.2222222222222222,
                            "#7201a8"
                          ],
                          [
                            0.3333333333333333,
                            "#9c179e"
                          ],
                          [
                            0.4444444444444444,
                            "#bd3786"
                          ],
                          [
                            0.5555555555555556,
                            "#d8576b"
                          ],
                          [
                            0.6666666666666666,
                            "#ed7953"
                          ],
                          [
                            0.7777777777777778,
                            "#fb9f3a"
                          ],
                          [
                            0.8888888888888888,
                            "#fdca26"
                          ],
                          [
                            1,
                            "#f0f921"
                          ]
                        ],
                        "type": "heatmapgl"
                      }
                    ],
                    "histogram": [
                      {
                        "marker": {
                          "pattern": {
                            "fillmode": "overlay",
                            "size": 10,
                            "solidity": 0.2
                          }
                        },
                        "type": "histogram"
                      }
                    ],
                    "histogram2d": [
                      {
                        "colorbar": {
                          "outlinewidth": 0,
                          "ticks": ""
                        },
                        "colorscale": [
                          [
                            0,
                            "#0d0887"
                          ],
                          [
                            0.1111111111111111,
                            "#46039f"
                          ],
                          [
                            0.2222222222222222,
                            "#7201a8"
                          ],
                          [
                            0.3333333333333333,
                            "#9c179e"
                          ],
                          [
                            0.4444444444444444,
                            "#bd3786"
                          ],
                          [
                            0.5555555555555556,
                            "#d8576b"
                          ],
                          [
                            0.6666666666666666,
                            "#ed7953"
                          ],
                          [
                            0.7777777777777778,
                            "#fb9f3a"
                          ],
                          [
                            0.8888888888888888,
                            "#fdca26"
                          ],
                          [
                            1,
                            "#f0f921"
                          ]
                        ],
                        "type": "histogram2d"
                      }
                    ],
                    "histogram2dcontour": [
                      {
                        "colorbar": {
                          "outlinewidth": 0,
                          "ticks": ""
                        },
                        "colorscale": [
                          [
                            0,
                            "#0d0887"
                          ],
                          [
                            0.1111111111111111,
                            "#46039f"
                          ],
                          [
                            0.2222222222222222,
                            "#7201a8"
                          ],
                          [
                            0.3333333333333333,
                            "#9c179e"
                          ],
                          [
                            0.4444444444444444,
                            "#bd3786"
                          ],
                          [
                            0.5555555555555556,
                            "#d8576b"
                          ],
                          [
                            0.6666666666666666,
                            "#ed7953"
                          ],
                          [
                            0.7777777777777778,
                            "#fb9f3a"
                          ],
                          [
                            0.8888888888888888,
                            "#fdca26"
                          ],
                          [
                            1,
                            "#f0f921"
                          ]
                        ],
                        "type": "histogram2dcontour"
                      }
                    ],
                    "mesh3d": [
                      {
                        "colorbar": {
                          "outlinewidth": 0,
                          "ticks": ""
                        },
                        "type": "mesh3d"
                      }
                    ],
                    "parcoords": [
                      {
                        "line": {
                          "colorbar": {
                            "outlinewidth": 0,
                            "ticks": ""
                          }
                        },
                        "type": "parcoords"
                      }
                    ],
                    "pie": [
                      {
                        "automargin": true,
                        "type": "pie"
                      }
                    ],
                    "scatter": [
                      {
                        "marker": {
                          "line": {
                            "color": "#283442"
                          }
                        },
                        "type": "scatter"
                      }
                    ],
                    "scatter3d": [
                      {
                        "line": {
                          "colorbar": {
                            "outlinewidth": 0,
                            "ticks": ""
                          }
                        },
                        "marker": {
                          "colorbar": {
                            "outlinewidth": 0,
                            "ticks": ""
                          }
                        },
                        "type": "scatter3d"
                      }
                    ],
                    "scattercarpet": [
                      {
                        "marker": {
                          "colorbar": {
                            "outlinewidth": 0,
                            "ticks": ""
                          }
                        },
                        "type": "scattercarpet"
                      }
                    ],
                    "scattergeo": [
                      {
                        "marker": {
                          "colorbar": {
                            "outlinewidth": 0,
                            "ticks": ""
                          }
                        },
                        "type": "scattergeo"
                      }
                    ],
                    "scattergl": [
                      {
                        "marker": {
                          "line": {
                            "color": "#283442"
                          }
                        },
                        "type": "scattergl"
                      }
                    ],
                    "scattermapbox": [
                      {
                        "marker": {
                          "colorbar": {
                            "outlinewidth": 0,
                            "ticks": ""
                          }
                        },
                        "type": "scattermapbox"
                      }
                    ],
                    "scatterpolar": [
                      {
                        "marker": {
                          "colorbar": {
                            "outlinewidth": 0,
                            "ticks": ""
                          }
                        },
                        "type": "scatterpolar"
                      }
                    ],
                    "scatterpolargl": [
                      {
                        "marker": {
                          "colorbar": {
                            "outlinewidth": 0,
                            "ticks": ""
                          }
                        },
                        "type": "scatterpolargl"
                      }
                    ],
                    "scatterternary": [
                      {
                        "marker": {
                          "colorbar": {
                            "outlinewidth": 0,
                            "ticks": ""
                          }
                        },
                        "type": "scatterternary"
                      }
                    ],
                    "surface": [
                      {
                        "colorbar": {
                          "outlinewidth": 0,
                          "ticks": ""
                        },
                        "colorscale": [
                          [
                            0,
                            "#0d0887"
                          ],
                          [
                            0.1111111111111111,
                            "#46039f"
                          ],
                          [
                            0.2222222222222222,
                            "#7201a8"
                          ],
                          [
                            0.3333333333333333,
                            "#9c179e"
                          ],
                          [
                            0.4444444444444444,
                            "#bd3786"
                          ],
                          [
                            0.5555555555555556,
                            "#d8576b"
                          ],
                          [
                            0.6666666666666666,
                            "#ed7953"
                          ],
                          [
                            0.7777777777777778,
                            "#fb9f3a"
                          ],
                          [
                            0.8888888888888888,
                            "#fdca26"
                          ],
                          [
                            1,
                            "#f0f921"
                          ]
                        ],
                        "type": "surface"
                      }
                    ],
                    "table": [
                      {
                        "cells": {
                          "fill": {
                            "color": "#506784"
                          },
                          "line": {
                            "color": "rgb(17,17,17)"
                          }
                        },
                        "header": {
                          "fill": {
                            "color": "#2a3f5f"
                          },
                          "line": {
                            "color": "rgb(17,17,17)"
                          }
                        },
                        "type": "table"
                      }
                    ]
                  },
                  "layout": {
                    "annotationdefaults": {
                      "arrowcolor": "#f2f5fa",
                      "arrowhead": 0,
                      "arrowwidth": 1
                    },
                    "autotypenumbers": "strict",
                    "coloraxis": {
                      "colorbar": {
                        "outlinewidth": 0,
                        "ticks": ""
                      }
                    },
                    "colorscale": {
                      "diverging": [
                        [
                          0,
                          "#8e0152"
                        ],
                        [
                          0.1,
                          "#c51b7d"
                        ],
                        [
                          0.2,
                          "#de77ae"
                        ],
                        [
                          0.3,
                          "#f1b6da"
                        ],
                        [
                          0.4,
                          "#fde0ef"
                        ],
                        [
                          0.5,
                          "#f7f7f7"
                        ],
                        [
                          0.6,
                          "#e6f5d0"
                        ],
                        [
                          0.7,
                          "#b8e186"
                        ],
                        [
                          0.8,
                          "#7fbc41"
                        ],
                        [
                          0.9,
                          "#4d9221"
                        ],
                        [
                          1,
                          "#276419"
                        ]
                      ],
                      "sequential": [
                        [
                          0,
                          "#0d0887"
                        ],
                        [
                          0.1111111111111111,
                          "#46039f"
                        ],
                        [
                          0.2222222222222222,
                          "#7201a8"
                        ],
                        [
                          0.3333333333333333,
                          "#9c179e"
                        ],
                        [
                          0.4444444444444444,
                          "#bd3786"
                        ],
                        [
                          0.5555555555555556,
                          "#d8576b"
                        ],
                        [
                          0.6666666666666666,
                          "#ed7953"
                        ],
                        [
                          0.7777777777777778,
                          "#fb9f3a"
                        ],
                        [
                          0.8888888888888888,
                          "#fdca26"
                        ],
                        [
                          1,
                          "#f0f921"
                        ]
                      ],
                      "sequentialminus": [
                        [
                          0,
                          "#0d0887"
                        ],
                        [
                          0.1111111111111111,
                          "#46039f"
                        ],
                        [
                          0.2222222222222222,
                          "#7201a8"
                        ],
                        [
                          0.3333333333333333,
                          "#9c179e"
                        ],
                        [
                          0.4444444444444444,
                          "#bd3786"
                        ],
                        [
                          0.5555555555555556,
                          "#d8576b"
                        ],
                        [
                          0.6666666666666666,
                          "#ed7953"
                        ],
                        [
                          0.7777777777777778,
                          "#fb9f3a"
                        ],
                        [
                          0.8888888888888888,
                          "#fdca26"
                        ],
                        [
                          1,
                          "#f0f921"
                        ]
                      ]
                    },
                    "colorway": [
                      "#636efa",
                      "#EF553B",
                      "#00cc96",
                      "#ab63fa",
                      "#FFA15A",
                      "#19d3f3",
                      "#FF6692",
                      "#B6E880",
                      "#FF97FF",
                      "#FECB52"
                    ],
                    "font": {
                      "color": "#f2f5fa"
                    },
                    "geo": {
                      "bgcolor": "rgb(17,17,17)",
                      "lakecolor": "rgb(17,17,17)",
                      "landcolor": "rgb(17,17,17)",
                      "showlakes": true,
                      "showland": true,
                      "subunitcolor": "#506784"
                    },
                    "hoverlabel": {
                      "align": "left"
                    },
                    "hovermode": "closest",
                    "mapbox": {
                      "style": "dark"
                    },
                    "paper_bgcolor": "rgb(17,17,17)",
                    "plot_bgcolor": "rgb(17,17,17)",
                    "polar": {
                      "angularaxis": {
                        "gridcolor": "#506784",
                        "linecolor": "#506784",
                        "ticks": ""
                      },
                      "bgcolor": "rgb(17,17,17)",
                      "radialaxis": {
                        "gridcolor": "#506784",
                        "linecolor": "#506784",
                        "ticks": ""
                      }
                    },
                    "scene": {
                      "xaxis": {
                        "backgroundcolor": "rgb(17,17,17)",
                        "gridcolor": "#506784",
                        "gridwidth": 2,
                        "linecolor": "#506784",
                        "showbackground": true,
                        "ticks": "",
                        "zerolinecolor": "#C8D4E3"
                      },
                      "yaxis": {
                        "backgroundcolor": "rgb(17,17,17)",
                        "gridcolor": "#506784",
                        "gridwidth": 2,
                        "linecolor": "#506784",
                        "showbackground": true,
                        "ticks": "",
                        "zerolinecolor": "#C8D4E3"
                      },
                      "zaxis": {
                        "backgroundcolor": "rgb(17,17,17)",
                        "gridcolor": "#506784",
                        "gridwidth": 2,
                        "linecolor": "#506784",
                        "showbackground": true,
                        "ticks": "",
                        "zerolinecolor": "#C8D4E3"
                      }
                    },
                    "shapedefaults": {
                      "line": {
                        "color": "#f2f5fa"
                      }
                    },
                    "sliderdefaults": {
                      "bgcolor": "#C8D4E3",
                      "bordercolor": "rgb(17,17,17)",
                      "borderwidth": 1,
                      "tickwidth": 0
                    },
                    "ternary": {
                      "aaxis": {
                        "gridcolor": "#506784",
                        "linecolor": "#506784",
                        "ticks": ""
                      },
                      "baxis": {
                        "gridcolor": "#506784",
                        "linecolor": "#506784",
                        "ticks": ""
                      },
                      "bgcolor": "rgb(17,17,17)",
                      "caxis": {
                        "gridcolor": "#506784",
                        "linecolor": "#506784",
                        "ticks": ""
                      }
                    },
                    "title": {
                      "x": 0.05
                    },
                    "updatemenudefaults": {
                      "bgcolor": "#506784",
                      "borderwidth": 0
                    },
                    "xaxis": {
                      "automargin": true,
                      "gridcolor": "#283442",
                      "linecolor": "#506784",
                      "ticks": "",
                      "title": {
                        "standoff": 15
                      },
                      "zerolinecolor": "#283442",
                      "zerolinewidth": 2
                    },
                    "yaxis": {
                      "automargin": true,
                      "gridcolor": "#283442",
                      "linecolor": "#506784",
                      "ticks": "",
                      "title": {
                        "standoff": 15
                      },
                      "zerolinecolor": "#283442",
                      "zerolinewidth": 2
                    }
                  }
                },
                "title": {
                  "text": "Population by Country Over Time"
                },
                "updatemenus": [
                  {
                    "buttons": [
                      {
                        "args": [
                          null,
                          {
                            "frame": {
                              "duration": 500,
                              "redraw": true
                            },
                            "fromcurrent": true,
                            "mode": "immediate",
                            "transition": {
                              "duration": 500,
                              "easing": "linear"
                            }
                          }
                        ],
                        "label": "&#9654;",
                        "method": "animate"
                      },
                      {
                        "args": [
                          [
                            null
                          ],
                          {
                            "frame": {
                              "duration": 0,
                              "redraw": true
                            },
                            "fromcurrent": true,
                            "mode": "immediate",
                            "transition": {
                              "duration": 0,
                              "easing": "linear"
                            }
                          }
                        ],
                        "label": "&#9724;",
                        "method": "animate"
                      }
                    ],
                    "direction": "left",
                    "pad": {
                      "r": 10,
                      "t": 70
                    },
                    "showactive": false,
                    "type": "buttons",
                    "x": 0.1,
                    "xanchor": "right",
                    "y": 0,
                    "yanchor": "top"
                  }
                ]
              }
            }
          },
          "metadata": {},
          "output_type": "display_data"
        }
      ],
      "source": [
        "fig = px.choropleth(\n",
        "    df,\n",
        "    locations='Country',\n",
        "    locationmode='country names',\n",
        "    color='Population',\n",
        "    hover_name='Country',\n",
        "    animation_frame='Year',\n",
        "    title='Population by Country Over Time',\n",
        "    color_continuous_scale='Viridis',\n",
        "    template='plotly_dark'\n",
        ")\n",
        "\n",
        "fig.show()"
      ]
    },
    {
      "cell_type": "markdown",
      "metadata": {
        "id": "_IMD1Z9c7-Wd"
      },
      "source": [
        "Conclusion: The visualization shows population growth in most countries, especially in developing regions. This emphasizes the need to develop infrastructure and resources to maintain quality of life in the face of population growth."
      ]
    },
    {
      "cell_type": "code",
      "execution_count": 11,
      "metadata": {
        "colab": {
          "base_uri": "https://localhost:8080/",
          "height": 648
        },
        "id": "QeJHbnKk7-We",
        "outputId": "c7e4d37d-ce76-4647-c732-02819b2891ee"
      },
      "outputs": [
        {
          "data": {
            "image/png": "[encoded data removed]",
            "text/plain": [
              "<Figure size 800x400 with 2 Axes>"
            ]
          },
          "metadata": {},
          "output_type": "display_data"
        }
      ],
      "source": [
        "# Compute correlation matrix\n",
        "corr_matrix = df.select_dtypes(include=[np.number]).corr()\n",
        "\n",
        "# Display the correlation matrix\n",
        "plt.figure(figsize=(8,4))\n",
        "sns.heatmap(corr_matrix, annot=True, cmap='coolwarm', fmt=\".2f\")\n",
        "plt.title('Correlation Matrix of Indicators')\n",
        "plt.show()"
      ]
    },
    {
      "cell_type": "code",
      "execution_count": 12,
      "metadata": {
        "colab": {
          "base_uri": "https://localhost:8080/",
          "height": 1000
        },
        "id": "9UHxHt7n7-We",
        "outputId": "23ec655d-4abe-4900-9074-9c56d1a907a3"
      },
      "outputs": [
        {
          "name": "stdout",
          "output_type": "stream",
          "text": [
            "         GDP (USD)   Population  Life Expectancy  Unemployment Rate (%)  \\\n",
            "Year                                                                      \n",
            "2010  1.105749e+13  679661500.0           69.570                12.3275   \n",
            "2011  1.183895e+13  676552000.0           67.080                13.9915   \n",
            "2012  1.175584e+13  694725000.0           65.270                13.1980   \n",
            "2013  1.056344e+13  639915500.0           65.030                16.3355   \n",
            "2014  8.951888e+12  736423000.0           60.975                13.8875   \n",
            "2015  8.281647e+12  788611000.0           67.670                15.8800   \n",
            "2016  8.223512e+12  962239000.0           67.030                11.8120   \n",
            "2017  1.077667e+13  849336500.0           65.465                11.1740   \n",
            "2018  1.224966e+13  710961000.0           65.245                12.6535   \n",
            "2019  1.198765e+13  649484000.0           69.910                11.4570   \n",
            "\n",
            "      CO2 Emissions (metric tons per capita)  Access to Electricity (%)  \n",
            "Year                                                                     \n",
            "2010                                 11.1295                    71.1440  \n",
            "2011                                  7.9505                    73.4615  \n",
            "2012                                 10.6065                    71.9995  \n",
            "2013                                 10.2480                    70.0265  \n",
            "2014                                 11.5120                    79.5020  \n",
            "2015                                  8.9890                    70.3790  \n",
            "2016                                 10.3100                    77.8030  \n",
            "2017                                  9.5000                    73.3540  \n",
            "2018                                 10.6085                    75.6100  \n",
            "2019                                  9.7280                    65.4880  \n"
          ]
        },
        {
          "data": {
            "image/png": "[encoded data removed]",
            "text/plain": [
              "<Figure size 1200x600 with 1 Axes>"
            ]
          },
          "metadata": {},
          "output_type": "display_data"
        }
      ],
      "source": [
        "# Group data by Year and compute mean for numerical columns\n",
        "yearly_trends = df.groupby('Year').mean(numeric_only=True)\n",
        "\n",
        "# Display the results\n",
        "print(yearly_trends)\n",
        "\n",
        "# Plot yearly trends for key metrics\n",
        "plt.figure(figsize=(12, 6))\n",
        "for column in ['GDP (USD)', 'CO2 Emissions (metric tons per capita)']:  # Replace with relevant numerical column names\n",
        "    plt.plot(yearly_trends.index, yearly_trends[column], marker='o', label=column)\n",
        "\n",
        "plt.title('Within-Year Trends', fontsize=16)\n",
        "plt.xlabel('Year', fontsize=12)\n",
        "plt.ylabel('Average Value', fontsize=12)\n",
        "plt.legend()\n",
        "plt.grid(axis='y')\n",
        "plt.tight_layout()\n",
        "plt.show()"
      ]
    },
    {
      "cell_type": "code",
      "execution_count": 28,
      "metadata": {
        "colab": {
          "base_uri": "https://localhost:8080/",
          "height": 472
        },
        "id": "_unyZ9AM7-We",
        "outputId": "e5da980e-52a4-494c-defc-cb4d622b6231"
      },
      "outputs": [
        {
          "data": {
            "image/png": "[encoded data removed]",
            "text/plain": [
              "<Figure size 1200x600 with 1 Axes>"
            ]
          },
          "metadata": {},
          "output_type": "display_data"
        }
      ],
      "source": [
        "# Scatter plot example\n",
        "plt.figure(figsize=(12, 6))\n",
        "plt.scatter(df['Population'], df['GDP (USD)'])\n",
        "plt.xlabel('Population (scaled)')\n",
        "plt.ylabel('GDP')\n",
        "plt.title('Population vs GDP')\n",
        "plt.show()"
      ]
    },
    {
      "cell_type": "code",
      "execution_count": 14,
      "metadata": {
        "colab": {
          "base_uri": "https://localhost:8080/"
        },
        "id": "kViSbD1e3X2s",
        "outputId": "83af1132-0f99-4daa-c482-f96b42c029e2"
      },
      "outputs": [
        {
          "data": {
            "text/plain": [
              "Index(['Country', 'Year', 'GDP (USD)', 'Population', 'Life Expectancy',\n",
              "       'Unemployment Rate (%)', 'CO2 Emissions (metric tons per capita)',\n",
              "       'Access to Electricity (%)'],\n",
              "      dtype='object')"
            ]
          },
          "execution_count": 14,
          "metadata": {},
          "output_type": "execute_result"
        }
      ],
      "source": [
        "df.columns"
      ]
    },
    {
      "cell_type": "code",
      "execution_count": 15,
      "metadata": {
        "id": "NTgc3ZXV3Ocs"
      },
      "outputs": [],
      "source": [
        "numerical_cols = ['Year', 'GDP (USD)', 'Population', 'Life Expectancy',\n",
        "       'Unemployment Rate (%)', 'CO2 Emissions (metric tons per capita)',\n",
        "       'Access to Electricity (%)']"
      ]
    },
    {
      "cell_type": "code",
      "execution_count": 16,
      "metadata": {
        "colab": {
          "base_uri": "https://localhost:8080/"
        },
        "id": "ZhbtY1ng29qw",
        "outputId": "6270d828-c233-47b3-80b4-17b266206ef3"
      },
      "outputs": [
        {
          "name": "stdout",
          "output_type": "stream",
          "text": [
            "Year: 0 outliers\n",
            "GDP (USD): 0 outliers\n",
            "Population: 0 outliers\n",
            "Life Expectancy: 0 outliers\n",
            "Unemployment Rate (%): 0 outliers\n",
            "CO2 Emissions (metric tons per capita): 0 outliers\n",
            "Access to Electricity (%): 0 outliers\n"
          ]
        }
      ],
      "source": [
        "def count_outliers(column):\n",
        "    Q1 = df[column].quantile(0.25)\n",
        "    Q3 = df[column].quantile(0.75)\n",
        "    IQR = Q3 - Q1\n",
        "    lower_bound = Q1 - 1.5 * IQR\n",
        "    upper_bound = Q3 + 1.5 * IQR\n",
        "    outliers = df[(df[column] < lower_bound) | (df[column] > upper_bound)]\n",
        "    return outliers.shape[0]\n",
        "\n",
        "# Count outliers for each numerical column\n",
        "outlier_counts = {col: count_outliers(col) for col in numerical_cols}\n",
        "\n",
        "# outlier counts\n",
        "for col, count in outlier_counts.items():\n",
        "    print(f\"{col}: {count} outliers\")"
      ]
    },
    {
      "cell_type": "code",
      "execution_count": 17,
      "metadata": {
        "colab": {
          "base_uri": "https://localhost:8080/"
        },
        "id": "mbHT2hl_7-We",
        "outputId": "804b3419-2ca7-4ff7-8a36-1f3aac5944cc"
      },
      "outputs": [
        {
          "data": {
            "text/plain": [
              "((160, 7), (40, 7))"
            ]
          },
          "execution_count": 17,
          "metadata": {},
          "output_type": "execute_result"
        }
      ],
      "source": [
        "# Encode 'Country'\n",
        "label_encoder = LabelEncoder()\n",
        "df['Country'] = label_encoder.fit_transform(df['Country'])\n",
        "\n",
        "# Features and target\n",
        "X = df.drop(\"GDP (USD)\", axis=1)\n",
        "y = df['GDP (USD)']\n",
        "\n",
        "# Scale numerical features\n",
        "scaler = StandardScaler()\n",
        "X_scaled = scaler.fit_transform(X)\n",
        "\n",
        "# Train-test split\n",
        "X_train, X_test, y_train, y_test = train_test_split(X_scaled, y, test_size=0.2, random_state=42)\n",
        "\n",
        "X_train.shape, X_test.shape"
      ]
    },
    {
      "cell_type": "markdown",
      "metadata": {
        "id": "9Fd3iUOh7-Wf"
      },
      "source": [
        "# Step 3: Model Selection"
      ]
    },
    {
      "cell_type": "code",
      "execution_count": 18,
      "metadata": {
        "id": "dCWDl5cP9kEo"
      },
      "outputs": [],
      "source": [
        "# Identify categorical and numerical columns\n",
        "categorical_cols = X.select_dtypes(include=['object']).columns.tolist()\n",
        "numerical_cols = X.select_dtypes(include=['int64', 'float64']).columns.tolist()\n",
        "\n",
        "# Define the ColumnTransformer\n",
        "preprocessor = ColumnTransformer(\n",
        "    transformers=[\n",
        "        ('num', StandardScaler(), numerical_cols),\n",
        "        ('cat', OneHotEncoder(handle_unknown='ignore'), categorical_cols) ])"
      ]
    },
    {
      "cell_type": "code",
      "execution_count": 19,
      "metadata": {
        "id": "ePMjrSb45G1V"
      },
      "outputs": [],
      "source": [
        "df = pd.get_dummies(df, columns=['Country'])\n",
        "df['GDP (USD)'] = np.log1p(df['GDP (USD)'])\n"
      ]
    },
    {
      "cell_type": "code",
      "execution_count": 20,
      "metadata": {
        "id": "FeVJDpqlxRxm"
      },
      "outputs": [],
      "source": [
        "from sklearn.tree import DecisionTreeRegressor"
      ]
    },
    {
      "cell_type": "code",
      "execution_count": 21,
      "metadata": {
        "id": "aaZgqpeU_RZl"
      },
      "outputs": [],
      "source": [
        "models = {\n",
        "    \"Linear Regression\": LinearRegression(),\n",
        "    \"Decision Tree\": DecisionTreeRegressor(random_state=42),\n",
        "    \"Random Forest\": RandomForestRegressor(random_state=42),\n",
        "    \"Gradient Boosting\": GradientBoostingRegressor(random_state=42)\n",
        "}"
      ]
    },
    {
      "cell_type": "code",
      "execution_count": 22,
      "metadata": {
        "colab": {
          "base_uri": "https://localhost:8080/"
        },
        "id": "-OCmRaOs7IDn",
        "outputId": "17d7a8de-2cf4-402f-f116-a8be10edc7fc"
      },
      "outputs": [
        {
          "name": "stdout",
          "output_type": "stream",
          "text": [
            "                            MAE          RMSE       R^2\n",
            "Linear Regression  4.932826e+12  5.779708e+12 -0.187456\n",
            "Decision Tree      6.483839e+12  8.075756e+12 -1.318314\n",
            "Random Forest      4.644755e+12  5.752916e+12 -0.176473\n",
            "Gradient Boosting  4.489972e+12  5.923317e+12 -0.247199\n"
          ]
        }
      ],
      "source": [
        "model_results = {}\n",
        "\n",
        "for name, model in models.items():\n",
        "    model.fit(X_train, y_train)\n",
        "    y_pred = model.predict(X_test)\n",
        "    model_results[name] = {\n",
        "        'MAE': mean_absolute_error(y_test, y_pred),\n",
        "        'RMSE': np.sqrt(mean_squared_error(y_test, y_pred)),\n",
        "        'R^2': r2_score(y_test, y_pred)\n",
        "    }\n",
        "\n",
        "print(pd.DataFrame(model_results).T)"
      ]
    },
    {
      "cell_type": "markdown",
      "metadata": {
        "id": "RdtefnDCyg-G"
      },
      "source": [
        "# Step 4: Model Training and Hyperparameter Tuning"
      ]
    },
    {
      "cell_type": "code",
      "execution_count": 23,
      "metadata": {
        "colab": {
          "base_uri": "https://localhost:8080/"
        },
        "id": "zcThFstuybQI",
        "outputId": "466c5cd1-171f-45dd-fda1-10561e1794cc"
      },
      "outputs": [
        {
          "name": "stdout",
          "output_type": "stream",
          "text": [
            "✅ Best Parameters: {'max_depth': None, 'min_samples_split': 5, 'n_estimators': 200}\n"
          ]
        }
      ],
      "source": [
        "from sklearn.model_selection import GridSearchCV\n",
        "\n",
        "param_grid = {\n",
        "    'n_estimators': [100, 200],\n",
        "    'max_depth': [None, 10, 20],\n",
        "    'min_samples_split': [2, 5],\n",
        "}\n",
        "\n",
        "grid_search = GridSearchCV(RandomForestRegressor(random_state=42),\n",
        "                           param_grid,\n",
        "                           cv=5,\n",
        "                           scoring='neg_mean_squared_error',\n",
        "                           n_jobs=-1)\n",
        "\n",
        "grid_search.fit(X_train, y_train)\n",
        "best_model = grid_search.best_estimator_\n",
        "\n",
        "print(\"✅ Best Parameters:\", grid_search.best_params_)\n"
      ]
    },
    {
      "cell_type": "markdown",
      "metadata": {
        "id": "47S8vJos9R7O"
      },
      "source": [
        "# Step 5: Interpret Model Results"
      ]
    },
    {
      "cell_type": "code",
      "execution_count": 24,
      "metadata": {
        "colab": {
          "base_uri": "https://localhost:8080/",
          "height": 507
        },
        "id": "MoxbvpOM88NG",
        "outputId": "29ba23de-2c68-4290-b17e-d506c168cc44"
      },
      "outputs": [
        {
          "data": {
            "image/png": "[encoded data removed]",
            "text/plain": [
              "<Figure size 800x500 with 1 Axes>"
            ]
          },
          "metadata": {},
          "output_type": "display_data"
        }
      ],
      "source": [
        "importances = best_model.feature_importances_\n",
        "\n",
        "feature_names = [f for f in X.columns if f != \"GDP (USD)\"]\n",
        "\n",
        "plt.figure(figsize=(8, 5))\n",
        "sns.barplot(x=importances, y=feature_names)\n",
        "plt.title(\"Feature Importance for GDP Prediction\")\n",
        "plt.xlabel(\"Importance Score\")\n",
        "plt.ylabel(\"Feature\")\n",
        "plt.tight_layout()\n",
        "plt.show()"
      ]
    },
    {
      "cell_type": "markdown",
      "metadata": {
        "id": "Itl8jt777-Wf"
      },
      "source": [
        "Feature Importance\n",
        "\n",
        "GDP (USD): 51.18% Life Expectancy: 48.82% Both features contribute almost equally to the classification, confirming their significance in defining the clusters.\n",
        "\n",
        "Confusion Matrix The confusion matrix showed perfect predictions on the test set, with no misclassifications:\n",
        "\n",
        "Predicted/Actual Cluster 0 Cluster 1 Cluster 2 Cluster 0 21 0 0 Cluster 1 0 17 0 Cluster 2 0 0 22"
      ]
    },
    {
      "cell_type": "markdown",
      "metadata": {
        "id": "Wd7UKeSL7-Wl"
      },
      "source": [
        "Insights\n",
        "\n",
        "Summarize important insights, such as how unemployment rate or access to electricity affects GDP."
      ]
    },
    {
      "cell_type": "markdown",
      "metadata": {
        "id": "dsKrvDaU7-Wl"
      },
      "source": [
        "# Step 6: Deployment"
      ]
    },
    {
      "cell_type": "code",
      "execution_count": 25,
      "metadata": {
        "id": "7tAjaXeh7-Wl"
      },
      "outputs": [],
      "source": [
        "import pickle\n",
        "\n",
        "# Save model\n",
        "with open('gdp_model.pkl', 'wb') as f:\n",
        "    pickle.dump(best_model, f)\n",
        "\n",
        "# Save scaler (if used)\n",
        "with open('scaler.pkl', 'wb') as f:\n",
        "    pickle.dump(scaler, f)\n"
      ]
    },
    {
      "cell_type": "code",
      "execution_count": 26,
      "metadata": {
        "colab": {
          "base_uri": "https://localhost:8080/"
        },
        "collapsed": true,
        "id": "iLIHkLvKzt5d",
        "outputId": "2fcece68-b4f5-4dce-853a-bac130d09d5c"
      },
      "outputs": [
        {
          "name": "stderr",
          "output_type": "stream",
          "text": [
            "2025-04-23 01:03:03.257 WARNING streamlit.runtime.scriptrunner_utils.script_run_context: Thread 'MainThread': missing ScriptRunContext! This warning can be ignored when running in bare mode.\n",
            "2025-04-23 01:03:04.220 \n",
            "  \u001b[33m\u001b[1mWarning:\u001b[0m to view this Streamlit app on a browser, run it with the following\n",
            "  command:\n",
            "\n",
            "    streamlit run C:\\Users\\MTR\\AppData\\Roaming\\Python\\Python312\\site-packages\\ipykernel_launcher.py [ARGUMENTS]\n",
            "2025-04-23 01:03:04.221 Thread 'MainThread': missing ScriptRunContext! This warning can be ignored when running in bare mode.\n",
            "2025-04-23 01:03:04.222 Thread 'MainThread': missing ScriptRunContext! This warning can be ignored when running in bare mode.\n",
            "2025-04-23 01:03:04.223 Thread 'MainThread': missing ScriptRunContext! This warning can be ignored when running in bare mode.\n",
            "2025-04-23 01:03:04.224 Thread 'MainThread': missing ScriptRunContext! This warning can be ignored when running in bare mode.\n",
            "2025-04-23 01:03:04.224 Thread 'MainThread': missing ScriptRunContext! This warning can be ignored when running in bare mode.\n",
            "2025-04-23 01:03:04.225 Thread 'MainThread': missing ScriptRunContext! This warning can be ignored when running in bare mode.\n",
            "2025-04-23 01:03:04.226 Thread 'MainThread': missing ScriptRunContext! This warning can be ignored when running in bare mode.\n",
            "2025-04-23 01:03:04.226 Session state does not function when running a script without `streamlit run`\n",
            "2025-04-23 01:03:04.227 Thread 'MainThread': missing ScriptRunContext! This warning can be ignored when running in bare mode.\n",
            "2025-04-23 01:03:04.227 Thread 'MainThread': missing ScriptRunContext! This warning can be ignored when running in bare mode.\n",
            "2025-04-23 01:03:04.228 Thread 'MainThread': missing ScriptRunContext! This warning can be ignored when running in bare mode.\n",
            "2025-04-23 01:03:04.228 Thread 'MainThread': missing ScriptRunContext! This warning can be ignored when running in bare mode.\n",
            "2025-04-23 01:03:04.228 Thread 'MainThread': missing ScriptRunContext! This warning can be ignored when running in bare mode.\n",
            "2025-04-23 01:03:04.229 Thread 'MainThread': missing ScriptRunContext! This warning can be ignored when running in bare mode.\n",
            "2025-04-23 01:03:04.229 Thread 'MainThread': missing ScriptRunContext! This warning can be ignored when running in bare mode.\n",
            "2025-04-23 01:03:04.231 Thread 'MainThread': missing ScriptRunContext! This warning can be ignored when running in bare mode.\n",
            "2025-04-23 01:03:04.232 Thread 'MainThread': missing ScriptRunContext! This warning can be ignored when running in bare mode.\n",
            "2025-04-23 01:03:04.233 Thread 'MainThread': missing ScriptRunContext! This warning can be ignored when running in bare mode.\n",
            "2025-04-23 01:03:04.235 Thread 'MainThread': missing ScriptRunContext! This warning can be ignored when running in bare mode.\n",
            "2025-04-23 01:03:04.237 Thread 'MainThread': missing ScriptRunContext! This warning can be ignored when running in bare mode.\n",
            "2025-04-23 01:03:04.239 Thread 'MainThread': missing ScriptRunContext! This warning can be ignored when running in bare mode.\n",
            "2025-04-23 01:03:04.239 Thread 'MainThread': missing ScriptRunContext! This warning can be ignored when running in bare mode.\n",
            "2025-04-23 01:03:04.240 Thread 'MainThread': missing ScriptRunContext! This warning can be ignored when running in bare mode.\n",
            "2025-04-23 01:03:04.240 Thread 'MainThread': missing ScriptRunContext! This warning can be ignored when running in bare mode.\n",
            "2025-04-23 01:03:04.241 Thread 'MainThread': missing ScriptRunContext! This warning can be ignored when running in bare mode.\n",
            "2025-04-23 01:03:04.241 Thread 'MainThread': missing ScriptRunContext! This warning can be ignored when running in bare mode.\n",
            "2025-04-23 01:03:04.241 Thread 'MainThread': missing ScriptRunContext! This warning can be ignored when running in bare mode.\n",
            "2025-04-23 01:03:04.243 Thread 'MainThread': missing ScriptRunContext! This warning can be ignored when running in bare mode.\n",
            "2025-04-23 01:03:04.244 Thread 'MainThread': missing ScriptRunContext! This warning can be ignored when running in bare mode.\n",
            "2025-04-23 01:03:04.245 Thread 'MainThread': missing ScriptRunContext! This warning can be ignored when running in bare mode.\n",
            "2025-04-23 01:03:04.245 Thread 'MainThread': missing ScriptRunContext! This warning can be ignored when running in bare mode.\n",
            "2025-04-23 01:03:04.246 Thread 'MainThread': missing ScriptRunContext! This warning can be ignored when running in bare mode.\n",
            "2025-04-23 01:03:04.247 Thread 'MainThread': missing ScriptRunContext! This warning can be ignored when running in bare mode.\n",
            "2025-04-23 01:03:04.247 Thread 'MainThread': missing ScriptRunContext! This warning can be ignored when running in bare mode.\n",
            "2025-04-23 01:03:04.248 Thread 'MainThread': missing ScriptRunContext! This warning can be ignored when running in bare mode.\n",
            "2025-04-23 01:03:04.249 Thread 'MainThread': missing ScriptRunContext! This warning can be ignored when running in bare mode.\n",
            "2025-04-23 01:03:04.249 Thread 'MainThread': missing ScriptRunContext! This warning can be ignored when running in bare mode.\n",
            "2025-04-23 01:03:04.251 Thread 'MainThread': missing ScriptRunContext! This warning can be ignored when running in bare mode.\n",
            "2025-04-23 01:03:04.252 Thread 'MainThread': missing ScriptRunContext! This warning can be ignored when running in bare mode.\n",
            "2025-04-23 01:03:04.255 Thread 'MainThread': missing ScriptRunContext! This warning can be ignored when running in bare mode.\n",
            "2025-04-23 01:03:04.256 Thread 'MainThread': missing ScriptRunContext! This warning can be ignored when running in bare mode.\n",
            "2025-04-23 01:03:04.258 Thread 'MainThread': missing ScriptRunContext! This warning can be ignored when running in bare mode.\n",
            "2025-04-23 01:03:04.259 Thread 'MainThread': missing ScriptRunContext! This warning can be ignored when running in bare mode.\n",
            "2025-04-23 01:03:04.260 Thread 'MainThread': missing ScriptRunContext! This warning can be ignored when running in bare mode.\n",
            "2025-04-23 01:03:04.261 Thread 'MainThread': missing ScriptRunContext! This warning can be ignored when running in bare mode.\n",
            "2025-04-23 01:03:04.262 Thread 'MainThread': missing ScriptRunContext! This warning can be ignored when running in bare mode.\n",
            "2025-04-23 01:03:04.263 Thread 'MainThread': missing ScriptRunContext! This warning can be ignored when running in bare mode.\n",
            "2025-04-23 01:03:04.266 Thread 'MainThread': missing ScriptRunContext! This warning can be ignored when running in bare mode.\n",
            "2025-04-23 01:03:04.286 Thread 'MainThread': missing ScriptRunContext! This warning can be ignored when running in bare mode.\n",
            "2025-04-23 01:03:04.287 Thread 'MainThread': missing ScriptRunContext! This warning can be ignored when running in bare mode.\n",
            "2025-04-23 01:03:04.290 Thread 'MainThread': missing ScriptRunContext! This warning can be ignored when running in bare mode.\n"
          ]
        }
      ],
      "source": [
        "import streamlit as st\n",
        "import numpy as np\n",
        "import pickle\n",
        "\n",
        "# Load the model and scaler\n",
        "with open(\"gdp_model.pkl\", \"rb\") as f:\n",
        "    model = pickle.load(f)\n",
        "\n",
        "with open(\"scaler.pkl\", \"rb\") as f:\n",
        "    scaler = pickle.load(f)\n",
        "\n",
        "st.title(\"🌍 GDP Predictor App\")\n",
        "st.markdown(\"Predict the GDP of a nation based on socioeconomic indicators.\")\n",
        "\n",
        "# User inputs\n",
        "country_encoded = st.number_input(\"Country (encoded)\", min_value=0)\n",
        "year = st.number_input(\"Year\", min_value=1960, max_value=2030, value=2022)\n",
        "population = st.number_input(\"Population\", min_value=0.0)\n",
        "life_expectancy = st.number_input(\"Life Expectancy\", min_value=0.0)\n",
        "unemployment_rate = st.number_input(\"Unemployment Rate (%)\", min_value=0.0)\n",
        "co2_emissions = st.number_input(\"CO2 Emissions (kt)\", min_value=0.0)\n",
        "electricity_access = st.number_input(\"Access to Electricity (%)\", min_value=0.0, max_value=100.0)\n",
        "\n",
        "# Predict button\n",
        "if st.button(\"Predict GDP\"):\n",
        "    input_data = np.array([[country_encoded, year, population, life_expectancy, unemployment_rate, co2_emissions, electricity_access]])\n",
        "    input_scaled = scaler.transform(input_data)\n",
        "    prediction = model.predict(input_scaled)[0]\n",
        "    st.success(f\"Predicted GDP: ${prediction:,.2f}\")\n"
      ]
    },
    {
      "cell_type": "code",
      "execution_count": null,
      "metadata": {
        "id": "HCgD-lGZ0GlW"
      },
      "outputs": [],
      "source": [
        "!streamlit run app.py"
      ]
    },
    {
      "cell_type": "markdown",
      "metadata": {
        "id": "ZzeZlJj17-Wm"
      },
      "source": [
        "###  Conclusion\n",
        "This comprehensive guide provides a structured approach to analyzing socioeconomic indicators to predict GDP. Each section includes sample code snippets to help you navigate the process effectively. Customize the steps based on your specific dataset and requirements, and don't hesitate to explore additional models or visualization techniques to enhance your analysis. If you have more specific aspects of this process you'd like assistance with, feel free to ask!"
      ]
    },
    {
      "cell_type": "code",
      "execution_count": null,
      "metadata": {
        "id": "sOKKb3_P7-Wm"
      },
      "outputs": [],
      "source": []
    }
  ],
  "metadata": {
    "colab": {
      "provenance": []
    },
    "kernelspec": {
      "display_name": "Python 3",
      "language": "python",
      "name": "python3"
    },
    "language_info": {
      "codemirror_mode": {
        "name": "ipython",
        "version": 3
      },
      "file_extension": ".py",
      "mimetype": "text/x-python",
      "name": "python",
      "nbconvert_exporter": "python",
      "pygments_lexer": "ipython3",
      "version": "3.12.5"
    }
  },
  "nbformat": 4,
  "nbformat_minor": 0
}
